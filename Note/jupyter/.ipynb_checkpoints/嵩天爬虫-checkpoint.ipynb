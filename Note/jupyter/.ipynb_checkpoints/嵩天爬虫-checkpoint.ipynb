{
 "cells": [
  {
   "cell_type": "markdown",
   "metadata": {},
   "source": [
    "# 第一周第一单元requests入门\n",
    "## requests入门\n"
   ]
  },
  {
   "cell_type": "code",
   "execution_count": 3,
   "metadata": {},
   "outputs": [
    {
     "data": {
      "text/plain": [
       "<Response [200]>"
      ]
     },
     "execution_count": 3,
     "metadata": {},
     "output_type": "execute_result"
    }
   ],
   "source": [
    "import requests as re\n",
    "\n",
    "re.get(\"http://www.baidu.com\")"
   ]
  },
  {
   "cell_type": "markdown",
   "metadata": {},
   "source": [
    "### requests常用的七种方法\n",
    "|方法|说明|\n",
    "|-|-|\n",
    "|requests.request()|构造一个请求，支撑以下各方法的基础方法|\n",
    "|requests.get()|获取HTML网页的主要方法，对应于HTTP的GET|\n",
    "|requests.head()|获取HTML网页头信息的方法，对应于HTTP的HEAD|\n",
    "|requests.post()|向HTML网页提交POST请求的方法，对应于HTTP的POST|\n",
    "|requests.put()|向HTML网页提交PUT请求的方法，对应于HTTP的PUT|\n",
    "|requests.patch()|向HTML网页提交局部修改请求，对应于HTTP的PATCH|\n",
    "|requests.delete()|向HTML页面提交删除请求，对应于HTTP的DELETE|\n",
    "> requests.request()是下面六个方法的基础方法，下面六个方法封装了requests.request()方法，可以看源码\n"
   ]
  },
  {
   "cell_type": "markdown",
   "metadata": {},
   "source": [
    "## requests库的最常用get()方法\n",
    "![](https://raw.githubusercontent.com/Raymond0225/picbed/master/img/20190908145613.png)\n",
    "`r = requests.get(url,params=None, **kwargs)`\n",
    " - url: 拟获取页面的url链接 \n",
    " - params: url中的额外参数，字典或字节流格式，可选\n",
    " - **kwargs: 12个控制访问的参数\n",
    " > 返回来的对象r是一个response对象，包含零服务器返回来的所有信息，也包含了请求的request的信息"
   ]
  },
  {
   "cell_type": "code",
   "execution_count": 6,
   "metadata": {},
   "outputs": [
    {
     "data": {
      "text/plain": [
       "(<Response [200]>,\n",
       " 200,\n",
       " requests.models.Response,\n",
       " {'Cache-Control': 'private, no-cache, no-store, proxy-revalidate, no-transform', 'Connection': 'Keep-Alive', 'Content-Encoding': 'gzip', 'Content-Type': 'text/html', 'Date': 'Sun, 08 Sep 2019 07:03:45 GMT', 'Last-Modified': 'Mon, 23 Jan 2017 13:27:36 GMT', 'Pragma': 'no-cache', 'Server': 'bfe/1.0.8.18', 'Set-Cookie': 'BDORZ=27315; max-age=86400; domain=.baidu.com; path=/', 'Transfer-Encoding': 'chunked'})"
      ]
     },
     "execution_count": 6,
     "metadata": {},
     "output_type": "execute_result"
    }
   ],
   "source": [
    "import requests as re\n",
    "\n",
    "r=re.get(\"http://www.baidu.com\")\n",
    "r,r.status_code,type(r),r.headers\n"
   ]
  },
  {
   "cell_type": "markdown",
   "metadata": {},
   "source": [
    "### response对象的属性（1）\n",
    "|属性|说明|\n",
    "|-|-|\n",
    "|r.status_code|HTTP请求的返回状态，200表示连接成功，404表示失败（只要不是200，基本都出错）|\n",
    "|r.text|HTTP响应内容的字符串形式，即，url对应的页面内容|\n",
    "|r.encoding|从HTTP header中猜测的响应内容编码方式|\n",
    "|r.apparent_encoding|从内容中分析出的响应内容编码方式（备选编码方式）|\n",
    "|r.content|HTTP响应内容的二进制形式|\n",
    "\n",
    "### 使用get()方法的流程\n",
    "![](https://raw.githubusercontent.com/Raymond0225/picbed/master/img/20190908150952.png)"
   ]
  },
  {
   "cell_type": "code",
   "execution_count": 11,
   "metadata": {},
   "outputs": [
    {
     "data": {
      "text/plain": [
       "{'Cache-Control': 'private, no-cache, no-store, proxy-revalidate, no-transform', 'Connection': 'Keep-Alive', 'Content-Encoding': 'gzip', 'Content-Type': 'text/html', 'Date': 'Sun, 08 Sep 2019 07:22:23 GMT', 'Last-Modified': 'Mon, 23 Jan 2017 13:27:36 GMT', 'Pragma': 'no-cache', 'Server': 'bfe/1.0.8.18', 'Set-Cookie': 'BDORZ=27315; max-age=86400; domain=.baidu.com; path=/', 'Transfer-Encoding': 'chunked'}"
      ]
     },
     "execution_count": 11,
     "metadata": {},
     "output_type": "execute_result"
    }
   ],
   "source": [
    "import requests as re\n",
    "\n",
    "r=re.get(\"http://www.baidu.com\")\n",
    "r.headers"
   ]
  },
  {
   "cell_type": "code",
   "execution_count": 12,
   "metadata": {},
   "outputs": [
    {
     "data": {
      "text/plain": [
       "'<!DOCTYPE html>\\r\\n<!--STATUS OK--><html> <head><meta http-equiv=content-type content=text/html;charset=utf-8><meta http-equiv=X-UA-Compatible content=IE=Edge><meta content=always name=referrer><link rel=stylesheet type=text/css href=http://s1.bdstatic.com/r/www/cache/bdorz/baidu.min.css><title>百度一下，你就知道</title></head> <body link=#0000cc> <div id=wrapper> <div id=head> <div class=head_wrapper> <div class=s_form> <div class=s_form_wrapper> <div id=lg> <img hidefocus=true src=//www.baidu.com/img/bd_logo1.png width=270 height=129> </div> <form id=form name=f action=//www.baidu.com/s class=fm> <input type=hidden name=bdorz_come value=1> <input type=hidden name=ie value=utf-8> <input type=hidden name=f value=8> <input type=hidden name=rsv_bp value=1> <input type=hidden name=rsv_idx value=1> <input type=hidden name=tn value=baidu><span class=\"bg s_ipt_wr\"><input id=kw name=wd class=s_ipt value maxlength=255 autocomplete=off autofocus></span><span class=\"bg s_btn_wr\"><input type=submit id=su value=百度一下 class=\"bg s_btn\"></span> </form> </div> </div> <div id=u1> <a href=http://news.baidu.com name=tj_trnews class=mnav>新闻</a> <a href=http://www.hao123.com name=tj_trhao123 class=mnav>hao123</a> <a href=http://map.baidu.com name=tj_trmap class=mnav>地图</a> <a href=http://v.baidu.com name=tj_trvideo class=mnav>视频</a> <a href=http://tieba.baidu.com name=tj_trtieba class=mnav>贴吧</a> <noscript> <a href=http://www.baidu.com/bdorz/login.gif?login&amp;tpl=mn&amp;u=http%3A%2F%2Fwww.baidu.com%2f%3fbdorz_come%3d1 name=tj_login class=lb>登录</a> </noscript> <script>document.write(\\'<a href=\"http://www.baidu.com/bdorz/login.gif?login&tpl=mn&u=\\'+ encodeURIComponent(window.location.href+ (window.location.search === \"\" ? \"?\" : \"&\")+ \"bdorz_come=1\")+ \\'\" name=\"tj_login\" class=\"lb\">登录</a>\\');</script> <a href=//www.baidu.com/more/ name=tj_briicon class=bri style=\"display: block;\">更多产品</a> </div> </div> </div> <div id=ftCon> <div id=ftConw> <p id=lh> <a href=http://home.baidu.com>关于百度</a> <a href=http://ir.baidu.com>About Baidu</a> </p> <p id=cp>&copy;2017&nbsp;Baidu&nbsp;<a href=http://www.baidu.com/duty/>使用百度前必读</a>&nbsp; <a href=http://jianyi.baidu.com/ class=cp-feedback>意见反馈</a>&nbsp;京ICP证030173号&nbsp; <img src=//www.baidu.com/img/gs.gif> </p> </div> </div> </div> </body> </html>\\r\\n'"
      ]
     },
     "execution_count": 12,
     "metadata": {},
     "output_type": "execute_result"
    }
   ],
   "source": [
    "r.encoding=\"utf-8\"\n",
    "r.text"
   ]
  },
  {
   "cell_type": "markdown",
   "metadata": {},
   "source": [
    "|属性|说明|\n",
    "|-|-|\n",
    "|r.encoding|从HTTP header中猜测的响应内容编码方式|\n",
    "|r.apparent_encoding|从内容中分析出的响应内容编码方式（备选编码方式）|\n",
    "\n",
    "- r.encoding：如果header中不存在charset，则认为编码为ISO‐8859‐1 r.text根据r.encoding显示网页内容 \n",
    "- r.apparent_encoding：根据网页内容分析出的编码方式 可以看作是r.encoding的备选"
   ]
  },
  {
   "cell_type": "markdown",
   "metadata": {},
   "source": [
    "## 爬取网页的通用代码框架 \n",
    "`r=requests.get(url)`\n",
    "- 网络连接经常会出现异常，所以异常处理很重要\n",
    "\n",
    "### 异常\n",
    "|异常|说明|\n",
    "|-|-|\n",
    "|requests.ConnectionError|网络连接错误异常，如DNS查询失败、拒绝连接等|\n",
    "|requests.HTTPError|HTTP错误异常|\n",
    "|requests.URLRequired|URL缺失异常|\n",
    "|requests.TooManyRedirects|超过最大重定向次数，产生重定向异常|\n",
    "|requests.ConnectTimeout|连接远程服务器超时异常|\n",
    "|requests.Timeout|请求URL超时，产生超时异常，从发送请求到收到服务器回应的数据的过程|\n",
    "\n",
    "### 处理异常\n",
    "|方法|说明|\n",
    "|-|-|\n",
    "|r.raise_for_status()|如果不是200，产生异常requests.HTTPError（在方法内部判断r.status_code是否等于200，不需要 增加额外的if语句，该语句便于利用try‐except进行异常处）|\n",
    "\n",
    "### 通用爬虫框架（用到上面的异常处理）"
   ]
  },
  {
   "cell_type": "code",
   "execution_count": 17,
   "metadata": {},
   "outputs": [
    {
     "name": "stdout",
     "output_type": "stream",
     "text": [
      "<!DOCTYPE html>\r\n",
      "<!--STATUS OK--><html> <head><meta http-equiv=content-type content=text/html;charset=utf-8><meta http-equiv=X-UA-Compatible content=IE=Edge><meta content=always name=referrer><link rel=stylesheet type=text/css href=http://s1.bdstatic.com/r/www/cache/bdorz/baidu.min.css><title>百度一下，你就知道</title></head> <body link=#0000cc> <div id=wrapper> <div id=head> <div class=head_wrapper> <div class=s_form> <div class=s_form_wrapper> <div id=lg> <img hidefocus=true src=//www.baidu.com/img/bd_logo1.png width=270 height=129> </div> <form id=form name=f action=//www.baidu.com/s class=fm> <input type=hidden name=bdorz_come value=1> <input type=hidden name=ie value=utf-8> <input type=hidden name=f value=8> <input type=hidden name=rsv_bp value=1> <input type=hidden name=rsv_idx value=1> <input type=hidden name=tn value=baidu><span class=\"bg s_ipt_wr\"><input id=kw name=wd class=s_ipt value maxlength=255 autocomplete=off autofocus></span><span class=\"bg s_btn_wr\"><input type=submit id=su value=百度一下 class=\"bg s_btn\"></span> </form> </div> </div> <div id=u1> <a href=http://news.baidu.com name=tj_trnews class=mnav>新闻</a> <a href=http://www.hao123.com name=tj_trhao123 class=mnav>hao123</a> <a href=http://map.baidu.com name=tj_trmap class=mnav>地图</a> <a href=http://v.baidu.com name=tj_trvideo class=mnav>视频</a> <a href=http://tieba.baidu.com name=tj_trtieba class=mnav>贴吧</a> <noscript> <a href=http://www.baidu.com/bdorz/login.gif?login&amp;tpl=mn&amp;u=http%3A%2F%2Fwww.baidu.com%2f%3fbdorz_come%3d1 name=tj_login class=lb>登录</a> </noscript> <script>document.write('<a href=\"http://www.baidu.com/bdorz/login.gif?login&tpl=mn&u='+ encodeURIComponent(window.location.href+ (window.location.search === \"\" ? \"?\" : \"&\")+ \"bdorz_come=1\")+ '\" name=\"tj_login\" class=\"lb\">登录</a>');</script> <a href=//www.baidu.com/more/ name=tj_briicon class=bri style=\"display: block;\">更多产品</a> </div> </div> </div> <div id=ftCon> <div id=ftConw> <p id=lh> <a href=http://home.baidu.com>关于百度</a> <a href=http://ir.baidu.com>About Baidu</a> </p> <p id=cp>&copy;2017&nbsp;Baidu&nbsp;<a href=http://www.baidu.com/duty/>使用百度前必读</a>&nbsp; <a href=http://jianyi.baidu.com/ class=cp-feedback>意见反馈</a>&nbsp;京ICP证030173号&nbsp; <img src=//www.baidu.com/img/gs.gif> </p> </div> </div> </div> </body> </html>\r\n",
      "\n"
     ]
    }
   ],
   "source": [
    "import requests as re\n",
    "\n",
    "def getHtml(url):\n",
    "    try:\n",
    "        r=re.get(url)\n",
    "        r.raise_for_status()#判读返回的状态码是否正常，如果不正常，自动抛出异常，而不用写if语句来判断\n",
    "        r.encoding=r.apparent_encoding\n",
    "        return r.text\n",
    "    except:\n",
    "        return \"产生异常\"\n",
    "\n",
    "url=\"http://www.baidu.com\"\n",
    "print(getHtml(url))"
   ]
  },
  {
   "cell_type": "markdown",
   "metadata": {},
   "source": [
    "## HTTP协议和requests库方法\n"
   ]
  },
  {
   "cell_type": "markdown",
   "metadata": {},
   "source": [
    "## HTTP协议和requests库方法\n",
    "\n",
    "\n",
    "### requests常用的七种方法\n",
    "|方法|说明|\n",
    "|-|-|\n",
    "|requests.request()|构造一个请求，支撑以下各方法的基础方法|\n",
    "|requests.get()|获取HTML网页的主要方法，对应于HTTP的GET|\n",
    "|requests.head()|获取HTML网页头信息的方法，对应于HTTP的HEAD|\n",
    "|requests.post()|向HTML网页提交POST请求的方法，对应于HTTP的POST|\n",
    "|requests.put()|向HTML网页提交PUT请求的方法，对应于HTTP的PUT|\n",
    "|requests.patch()|向HTML网页提交局部修改请求，对应于HTTP的PATCH|\n",
    "|requests.delete()|向HTML页面提交删除请求，对应于HTTP的DELETE|\n",
    "> requests.request()是下面六个方法的基础方法，下面六个方法封装了requests.request()方法，可以看源码\n",
    "\n",
    "*为了理解上述的期中方法，我们要理解HTTP协议*\n",
    "\n",
    "### HTTP协议\n",
    "HTTP，Hypertext Transfer Protocol，超文本传输协议\n",
    "\n",
    "#### HTTP是一个基于“请求与响应”模式的、无状态的应用层协议 \n",
    "- 请求与响应模式：客户端发送请求，服务器响应请求并返回数据\n",
    "- 无状态：第一次请求和第二次请求之间没有关系\n",
    "- 应用层：工作在TCP协议之上\n",
    "\n",
    "#### HTTP协议采用URL作为定位网络资源的标识，URL格式如下：\n",
    "\n",
    "http://host[:port][path]\n",
    "\n",
    "- host: 合法的Internet主机域名或IP地址\n",
    "- port: 端口号，缺省端口为80\n",
    "- path: 请求资源的路径\n",
    "\n",
    "HTTP URL实例：\n",
    "1. http：//www.bit.edu.cn\n",
    "2. http://220.181.111.18/duty\n",
    "\n",
    "HTTP URL的理解：\n",
    "- URL是通过HTTP协议存取资源的Internet路径，一个URL对应一个数据资源(类似于存放本地电脑的文件路径）\n",
    "\n",
    "#### HTTP协议对资源的操作\n",
    "|方法|说明|\n",
    "|-|-|\n",
    "|GET|请求获取URL位置的资源|\n",
    "|HEAD|请求获取URL位置资源的响应消息报告，即获得该资源的头部信息（该资源的大概描述）|\n",
    "|POST|请求向URL位置的资源后附加新的数据|\n",
    "|PUT|请求向URL位置存储一个资源，覆盖原URL位置的资源|\n",
    "|PATCH|请求局部更新URL位置的资源，即改变该处资源的部分内容|\n",
    "|DELETE|请求删除URL位置存储的资源|\n",
    "![](https://raw.githubusercontent.com/Raymond0225/picbed/master/img/20190908160217.png)\n"
   ]
  },
  {
   "cell_type": "markdown",
   "metadata": {},
   "source": [
    "### 理解PATCH和PUT的区别\n",
    "假设URL位置有一组数据UserInfo，包括UserID、UserName等20个字段\n",
    "\n",
    "需求：用户修改了UserName，其他不变\n",
    "- 采用PATCH，仅向URL提交UserName的局部更新请求\n",
    "- 采用PUT，必须将所有20个字段一并提交到URL，未提交字段被删除\n",
    "> PATCH的最主要好处：节省网络带宽\n",
    "\n",
    "|HTTP协议方法|Requests库方法|功能的一致性|\n",
    "|-|-|-|\n",
    "|GET|requests.get()|一致|\n",
    "|HEAD|requests.head()|一致|\n",
    "|POST|requests.post()|一致|\n",
    "|PUT|requests.put()|一致|\n",
    "|PATCH|requests.patch()|一致|\n",
    "|DELETE|requests.delete()|一致|\n",
    "\n",
    "\n"
   ]
  },
  {
   "cell_type": "markdown",
   "metadata": {},
   "source": [
    "## requests库主要方法\n",
    "\n",
    "\n",
    "### requests常用的七种方法\n",
    "|方法|说明|\n",
    "|-|-|\n",
    "|requests.request()|构造一个请求，支撑以下各方法的基础方法|\n",
    "|requests.get()|获取HTML网页的主要方法，对应于HTTP的GET|\n",
    "|requests.head()|获取HTML网页头信息的方法，对应于HTTP的HEAD|\n",
    "|requests.post()|向HTML网页提交POST请求的方法，对应于HTTP的POST|\n",
    "|requests.put()|向HTML网页提交PUT请求的方法，对应于HTTP的PUT|\n",
    "|requests.patch()|向HTML网页提交局部修改请求，对应于HTTP的PATCH|\n",
    "|requests.delete()|向HTML页面提交删除请求，对应于HTTP的DELETE|\n",
    "> requests.request()是下面六个方法的基础方法，下面六个方法封装了requests.request()方法，可以看源码\n",
    "\n",
    "\n",
    "#### requests.request(methon,url,**kwargs)\n",
    "> method : 请求方式，对应get/put/post等7种\n",
    "- r = requests.request('GET',url,**kwargs)\n",
    "- r = requests.request('HEAD',url,**kwargs) \n",
    "- r = requests.request('POST',url,**kwargs) \n",
    "- r = requests.request('PUT',url,**kwargs) \n",
    "- r = requests.request('PATCH',url,**kwargs) \n",
    "- r = requests.request('delete',url,**kwargs) \n",
    "- r = requests.request('OPTIONS',url,**kwargs)\n",
    "\n",
    "> url: 拟获取页面的url链接\n",
    "\n",
    "> **kwargs: 控制访问的参数，共13个\n",
    "- params: 字典或字节序列，作为参数增加到url中 \n",
    "- data: 字典、字节序列或文件对象，作为Request的内容\n",
    "- json: JSON格式的数据，作为Request的内容 \n",
    "- headers : 字典，HTTP定制头\n",
    "- cookies : 字典或CookieJar，Request中的cookie\n",
    "- auth: 元组，支持HTTP认证功能\n",
    "- files   : 字典类型，传输文件\n",
    "- timeout : 设定超时时间，秒为单位\n",
    "- proxies : 字典类型，设定访问代理服务器，可以增加登录认证\n",
    "- allow_redirects: True/False，默认为True，重定向开关\n",
    "- stream  : True/False，默认为True，获取内容立即下载开关\n",
    "- verify  : True/False，默认为True，认证SSL证书开关\n",
    "- cert    : 本地SSL证书路径\n",
    "\n",
    "#### requests.get(url,params=None,**kwargs)\n",
    "- url: 拟获取页面的url链接 \n",
    "- params: url中的额外参数，字典或字节流格式，可选 \n",
    "- **kwargs: 12个控制访问的参数\n",
    "\n",
    "#### requests.head(url,**kwargs)\n",
    "- url: 拟获取页面的url链接  \n",
    "- **kwargs: 13个控制访问的参数\n",
    "\n",
    "#### requests.post(url,data=None,json=None,**kwargs)\n",
    "- url: 拟获取页面的url链接 \n",
    "- data: 字典、字节序列或文件，Request的内容  \n",
    "- json:json格式的数据，request的内容\n",
    "- **kwargs: 12个控制访问的参数\n",
    "\n",
    "#### requests.put(url,data=None,**kwargs)\n",
    "- url: 拟获取页面的url链接 \n",
    "- data: 字典、字节序列或文件，Request的内容 \n",
    "- **kwargs: 12个控制访问的参数\n",
    "\n",
    "#### requests.patch(url,data=None,**kwargs)\n",
    "- url: 拟获取页面的url链接 \n",
    "- params: url中的额外参数，字典或字节流格式，可选 \n",
    "- **kwargs: 12个控制访问的参数\n",
    "\n",
    "#### requests.delete(url,**kwargs)\n",
    "- url: 拟获取页面的url链接 \n",
    "- **kwargs: 12个控制访问的参数\n",
    "\n"
   ]
  },
  {
   "cell_type": "markdown",
   "metadata": {},
   "source": [
    "# 第二单元\n",
    "## 网络爬虫引发的问题\n",
    "![](https://raw.githubusercontent.com/Raymond0225/picbed/master/img/20190908163840.png)\n",
    "## Robots协议\n",
    "作用：\n",
    "\n",
    "网站告知网络爬虫哪些页面可以抓取，哪些不行\n",
    "\n",
    "形式：\n",
    "\n",
    "在网站根目录下的robots.txt文件\n"
   ]
  },
  {
   "cell_type": "markdown",
   "metadata": {},
   "source": [
    "# 第三单元\n",
    "## 实例一：爬取京东商品页面"
   ]
  },
  {
   "cell_type": "code",
   "execution_count": 13,
   "metadata": {},
   "outputs": [
    {
     "data": {
      "text/plain": [
       "'<!DOCTYPE HTML>\\n<html lang=\"zh-CN\">\\n<head>\\n    <!-- shouji -->\\n    <meta http-equiv=\"Content-Type\" content=\"text/html; charset=gbk\" />\\n    <title>【华为荣耀9X】荣耀9X 麒麟810 4000mAh超强续航 4800万超清夜拍 6.59英寸升降全面屏 全网通4GB+64GB 魅海蓝【行情 报价 价格 评测】-京东</title>\\n    <meta name=\"keywords\" content=\"HUAWEI荣耀9X,华为荣耀9X,华为荣耀9X报价,HUAWEI荣耀9X报价\"/>\\n    <meta name=\"description\" content=\"【华为荣耀9X】京东JD.COM提供华为荣耀9X正品行货，并包括HUAWEI荣耀9X网购指南，以及华为荣耀9X图片、荣耀9X参数、荣耀9X评论、荣耀9X心得、荣耀9X技巧等信息，网购华为荣耀9X上京东,放心又轻松\" />\\n    <meta name=\"format-detection\" content=\"telephone=no\">\\n    <meta http-equiv=\"mobile-agent\" content=\"format=xhtml; url=//item.m.jd.com/product/100006635632.html\">\\n    <meta http-equiv=\"mobile-agent\" content=\"format=html5; url=//item.m.jd.com/product/100006635632.html\">\\n    <meta http-equiv=\"X-UA-Compatible\" content=\"IE=Edge\">\\n    <link rel=\"canonical\" href=\"//item.jd.com/100006635632.html\"/>\\n        <link rel=\"dns-prefetch\" href=\"//misc.360buyimg.com\"/>\\n    <link rel=\"dns-prefetch\" href=\"//static.360buyimg.com\"/>\\n    <link rel'"
      ]
     },
     "execution_count": 13,
     "metadata": {},
     "output_type": "execute_result"
    }
   ],
   "source": [
    "import requests as re\n",
    "\n",
    "def spider(url):\n",
    "    try:\n",
    "        r=re.get(url)\n",
    "        r.raise_for_status()\n",
    "        r.encoding=r.apparent_encoding\n",
    "        return r.text[:1000]\n",
    "    except:\n",
    "        return (\"爬取网页错误{0}\".format(url))\n",
    "    \n",
    "url=\"https://item.jd.com/100006635632.html\"\n",
    "spider(url)\n"
   ]
  },
  {
   "cell_type": "markdown",
   "metadata": {},
   "source": [
    "## 实例二：爬取亚马逊商品页面\n",
    "https://www.amazon.cn/gp/product/B01M8L5Z3Y\n",
    "\n",
    "- response对象中包含着发送的request对象"
   ]
  },
  {
   "cell_type": "code",
   "execution_count": 30,
   "metadata": {},
   "outputs": [
    {
     "data": {
      "text/plain": [
       "('ackground-position:right -2px}.ap_header .ap_middle{margin:0 34px;background-attachment:scroll;background-repeat:repeat-x}.ap_popover_sprited .ap_header .ap_middle{background-position:0 -70px}.ap_footer .ap_left{position:absolute;top:0;left:0;width:34px;background-attachment:scroll;background-repeat:no-repeat}.ap_popover_sprited .ap_footer .ap_left{background-position:left -40px}.ap_footer .ap_right{width:34px;position:absolute;top:0;right:0;background-attachment:scroll;background-repeat:no-repeat}.ap_popover_sprited .ap_footer .ap_right{background-position:right -40px}.ap_footer .ap_middle{margin:0 34px;background-attachment:scroll;background-repeat:repeat-x}.ap_popover_sprited .ap_footer .ap_middle{background-position:0 -108px}.ap_popover .ap_titlebar{display:none;position:absolute;left:0;top:0;background-color:#EAF3FE;border-bottom:1px solid #C2DDF2;font-size:14px;font-weight:700;margin:8px 18px;white-space:nowrap;overflow:hidden}.ap_popover .ap_titlebar.multiline{white-space:normal',\n",
       " {'User-Agent': 'python-requests/2.22.0', 'Accept-Encoding': 'gzip, deflate', 'Accept': '*/*', 'Connection': 'keep-alive'})"
      ]
     },
     "execution_count": 30,
     "metadata": {},
     "output_type": "execute_result"
    }
   ],
   "source": [
    "import requests as re\n",
    "\n",
    "def spider(url):\n",
    "    try:\n",
    "        r=re.get(url)\n",
    "        r.raise_for_status()\n",
    "        r.encoding=r.apparent_encoding\n",
    "        return r.text[5000:6000],r.request.headers\n",
    "    except:\n",
    "        return \"爬取出错\"\n",
    "    \n",
    "url=\"https://www.amazon.cn/gp/product/B01M8L5Z3Y\"\n",
    "spider(url)"
   ]
  },
  {
   "cell_type": "code",
   "execution_count": null,
   "metadata": {},
   "outputs": [],
   "source": []
  },
  {
   "cell_type": "code",
   "execution_count": null,
   "metadata": {},
   "outputs": [],
   "source": []
  },
  {
   "cell_type": "code",
   "execution_count": null,
   "metadata": {},
   "outputs": [],
   "source": []
  },
  {
   "cell_type": "code",
   "execution_count": null,
   "metadata": {},
   "outputs": [],
   "source": []
  },
  {
   "cell_type": "code",
   "execution_count": null,
   "metadata": {},
   "outputs": [],
   "source": []
  },
  {
   "cell_type": "code",
   "execution_count": null,
   "metadata": {},
   "outputs": [],
   "source": []
  },
  {
   "cell_type": "code",
   "execution_count": null,
   "metadata": {},
   "outputs": [],
   "source": []
  },
  {
   "cell_type": "code",
   "execution_count": null,
   "metadata": {},
   "outputs": [],
   "source": []
  },
  {
   "cell_type": "code",
   "execution_count": null,
   "metadata": {},
   "outputs": [],
   "source": []
  },
  {
   "cell_type": "code",
   "execution_count": null,
   "metadata": {},
   "outputs": [],
   "source": []
  },
  {
   "cell_type": "code",
   "execution_count": null,
   "metadata": {},
   "outputs": [],
   "source": []
  },
  {
   "cell_type": "code",
   "execution_count": null,
   "metadata": {},
   "outputs": [],
   "source": []
  },
  {
   "cell_type": "code",
   "execution_count": null,
   "metadata": {},
   "outputs": [],
   "source": []
  },
  {
   "cell_type": "code",
   "execution_count": null,
   "metadata": {},
   "outputs": [],
   "source": []
  },
  {
   "cell_type": "code",
   "execution_count": null,
   "metadata": {},
   "outputs": [],
   "source": []
  },
  {
   "cell_type": "code",
   "execution_count": null,
   "metadata": {},
   "outputs": [],
   "source": []
  },
  {
   "cell_type": "code",
   "execution_count": null,
   "metadata": {},
   "outputs": [],
   "source": []
  },
  {
   "cell_type": "code",
   "execution_count": null,
   "metadata": {},
   "outputs": [],
   "source": []
  },
  {
   "cell_type": "code",
   "execution_count": null,
   "metadata": {},
   "outputs": [],
   "source": []
  },
  {
   "cell_type": "code",
   "execution_count": null,
   "metadata": {},
   "outputs": [],
   "source": []
  },
  {
   "cell_type": "code",
   "execution_count": null,
   "metadata": {},
   "outputs": [],
   "source": []
  },
  {
   "cell_type": "code",
   "execution_count": null,
   "metadata": {},
   "outputs": [],
   "source": []
  },
  {
   "cell_type": "code",
   "execution_count": null,
   "metadata": {},
   "outputs": [],
   "source": []
  },
  {
   "cell_type": "code",
   "execution_count": null,
   "metadata": {},
   "outputs": [],
   "source": []
  },
  {
   "cell_type": "code",
   "execution_count": null,
   "metadata": {},
   "outputs": [],
   "source": []
  },
  {
   "cell_type": "code",
   "execution_count": null,
   "metadata": {},
   "outputs": [],
   "source": []
  },
  {
   "cell_type": "code",
   "execution_count": null,
   "metadata": {},
   "outputs": [],
   "source": []
  },
  {
   "cell_type": "code",
   "execution_count": null,
   "metadata": {},
   "outputs": [],
   "source": []
  },
  {
   "cell_type": "code",
   "execution_count": null,
   "metadata": {},
   "outputs": [],
   "source": []
  },
  {
   "cell_type": "code",
   "execution_count": null,
   "metadata": {},
   "outputs": [],
   "source": []
  },
  {
   "cell_type": "code",
   "execution_count": null,
   "metadata": {},
   "outputs": [],
   "source": []
  },
  {
   "cell_type": "code",
   "execution_count": null,
   "metadata": {},
   "outputs": [],
   "source": []
  }
 ],
 "metadata": {
  "kernelspec": {
   "display_name": "Python 3",
   "language": "python",
   "name": "python3"
  },
  "language_info": {
   "codemirror_mode": {
    "name": "ipython",
    "version": 3
   },
   "file_extension": ".py",
   "mimetype": "text/x-python",
   "name": "python",
   "nbconvert_exporter": "python",
   "pygments_lexer": "ipython3",
   "version": "3.7.3"
  },
  "toc": {
   "base_numbering": 1,
   "nav_menu": {},
   "number_sections": true,
   "sideBar": true,
   "skip_h1_title": false,
   "title_cell": "Table of Contents",
   "title_sidebar": "Contents",
   "toc_cell": false,
   "toc_position": {},
   "toc_section_display": true,
   "toc_window_display": false
  },
  "varInspector": {
   "cols": {
    "lenName": 16,
    "lenType": 16,
    "lenVar": 40
   },
   "kernels_config": {
    "python": {
     "delete_cmd_postfix": "",
     "delete_cmd_prefix": "del ",
     "library": "var_list.py",
     "varRefreshCmd": "print(var_dic_list())"
    },
    "r": {
     "delete_cmd_postfix": ") ",
     "delete_cmd_prefix": "rm(",
     "library": "var_list.r",
     "varRefreshCmd": "cat(var_dic_list()) "
    }
   },
   "types_to_exclude": [
    "module",
    "function",
    "builtin_function_or_method",
    "instance",
    "_Feature"
   ],
   "window_display": false
  }
 },
 "nbformat": 4,
 "nbformat_minor": 2
}
