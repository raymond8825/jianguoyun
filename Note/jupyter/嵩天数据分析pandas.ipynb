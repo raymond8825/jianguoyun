{
 "cells": [
  {
   "cell_type": "markdown",
   "metadata": {},
   "source": [
    "# 数据分析第三周第七单元\n",
    "## pandas库入门\n",
    "pandas可以提取出数据的特征：可以提供高性能易用数据类型和分析工具--->即为提供了便于操作数据的数据类型和用于分析数据的分析工具\n",
    "\n",
    "`import pandas as pd`\n",
    "\n",
    "pandas基于numpy实现，常常与numpy和matplotlib一同使用"
   ]
  },
  {
   "cell_type": "markdown",
   "metadata": {},
   "source": [
    "### 便于操作数据的数据类型\n",
    "- Series：一维数据\n",
    "- DataFrame：多维数据\n",
    "\n",
    "这两个数据类型提供了各类操作：基本操作、运算操作、特征类操作、关联类操作\n",
    "\n",
    "|Numpy|Pandas|\n",
    "|-|-|\n",
    "|基础数据类型|扩展数据类型(series,dataframe都是基于ndarray|\n",
    "|关注数据的结构表达（数据之间构成的维度，获取一堆数据，采用怎样的维度将数据储存并表示）|关注数据的应用表达（怎么使用数据，怎么进行计算|\n",
    "|维度：数据间关系|数据与索引间关系|"
   ]
  },
  {
   "cell_type": "markdown",
   "metadata": {},
   "source": [
    "## Series类型\n",
    "Series类型由一组数据及与之相关的数据索引组成\n",
    "\n",
    "index_0 ---> data_a\n",
    "\n",
    "index_1 ---> data_d\n",
    "\n",
    "index_2 ---> data_c\n",
    "\n",
    "index_3 ---> data_b\n",
    "\n",
    "   索引 ---> 数据"
   ]
  },
  {
   "cell_type": "code",
   "execution_count": 1,
   "metadata": {},
   "outputs": [
    {
     "data": {
      "text/plain": [
       "0    3\n",
       "1    4\n",
       "2    5\n",
       "3    6\n",
       "dtype: int64"
      ]
     },
     "execution_count": 1,
     "metadata": {},
     "output_type": "execute_result"
    }
   ],
   "source": [
    "import pandas as pd\n",
    "\n",
    "a=pd.Series([3,4,5,6])\n",
    "a\n"
   ]
  },
  {
   "cell_type": "markdown",
   "metadata": {},
   "source": [
    "> 左侧为自动索引，右侧为数据，数据类型沿用Numpy中的数据类型"
   ]
  },
  {
   "cell_type": "markdown",
   "metadata": {},
   "source": [
    "### 用户自定义索引"
   ]
  },
  {
   "cell_type": "code",
   "execution_count": 4,
   "metadata": {},
   "outputs": [
    {
     "data": {
      "text/plain": [
       "a    3\n",
       "b    4\n",
       "c    5\n",
       "d    6\n",
       "dtype: int64"
      ]
     },
     "execution_count": 4,
     "metadata": {},
     "output_type": "execute_result"
    }
   ],
   "source": [
    "import pandas as pd\n",
    "\n",
    "a=pd.Series([3,4,5,6],index=[\"a\",\"b\",\"c\",\"d\"])\n",
    "a"
   ]
  },
  {
   "cell_type": "markdown",
   "metadata": {},
   "source": [
    "### Series类型的创建\n",
    "Series类型可以有以下类型创建\n",
    "- python列表\n",
    "- python字典\n",
    "- 标量值\n",
    "- ndarray\n",
    "- 其他函数\n",
    "#### 标量值创建\n",
    "用标量创建Series类型，如果不指定Series的index参数，则默认会有一个只包含一个数据的Series类型，这里的index参数类似于numpy中的shape，可以规定Series对象的形状？"
   ]
  },
  {
   "cell_type": "code",
   "execution_count": 8,
   "metadata": {},
   "outputs": [
    {
     "data": {
      "text/plain": [
       "(0    23\n",
       " dtype: int64, A    23\n",
       " B    23\n",
       " D    23\n",
       " dtype: int64)"
      ]
     },
     "execution_count": 8,
     "metadata": {},
     "output_type": "execute_result"
    }
   ],
   "source": [
    "import pandas as pd\n",
    "\n",
    "a=pd.Series(23)\n",
    "b=pd.Series(23,index=[\"A\",\"B\",\"D\"])\n",
    "a,b"
   ]
  },
  {
   "cell_type": "markdown",
   "metadata": {},
   "source": [
    "#### 从字典类型创建\n",
    "python中的字典类型的键值对，就对应着Series的索引，所以可以直接用字典类型创建Series对象\n"
   ]
  },
  {
   "cell_type": "code",
   "execution_count": 12,
   "metadata": {},
   "outputs": [
    {
     "data": {
      "text/plain": [
       "a     NaN\n",
       "b     NaN\n",
       "年龄     18\n",
       "dtype: object"
      ]
     },
     "execution_count": 12,
     "metadata": {},
     "output_type": "execute_result"
    }
   ],
   "source": [
    "import pandas as pd\n",
    "\n",
    "d={\"姓名\":\"Raymond\",\"年龄\":\"18\"}\n",
    "pd.Series(d,index=[\"a\",\"b\",\"年龄\"])"
   ]
  },
  {
   "cell_type": "markdown",
   "metadata": {},
   "source": [
    "> 在由字典创建Series对象时候，可以通过调节Series的index参数来挑取相关的值来生成Series对象"
   ]
  },
  {
   "cell_type": "markdown",
   "metadata": {},
   "source": [
    "#### 从ndarray中创建\n"
   ]
  },
  {
   "cell_type": "code",
   "execution_count": 20,
   "metadata": {},
   "outputs": [
    {
     "data": {
      "text/plain": [
       "(0    0\n",
       " 1    1\n",
       " 2    2\n",
       " 3    3\n",
       " 4    4\n",
       " dtype: int32, 10    0\n",
       " 9     1\n",
       " 8     2\n",
       " 7     3\n",
       " 6     4\n",
       " dtype: int32)"
      ]
     },
     "execution_count": 20,
     "metadata": {},
     "output_type": "execute_result"
    }
   ],
   "source": [
    "import numpy as np\n",
    "import pandas as pd\n",
    "\n",
    "a=pd.Series(np.arange(5))\n",
    "b=pd.Series(np.arange(5),index=np.arange(10,5,-1))\n",
    "a,b"
   ]
  },
  {
   "cell_type": "markdown",
   "metadata": {},
   "source": [
    "### Series创建总结\n",
    "- Python列表，index与列表元素个数一致 \n",
    "- 标量值，index表达Series类型的尺寸 \n",
    "- Python字典，键值对中的“键”是索引，index从字典中进行选择操作 \n",
    "- ndarray，索引和数据都可以通过ndarray类型创建 \n",
    "- 其他函数，range()函数等"
   ]
  },
  {
   "cell_type": "markdown",
   "metadata": {},
   "source": [
    "### Series的基本操作\n",
    "- Series类型包括index和values两部分，所以操作分为两个部分\n",
    "\n",
    "- Series类型的操作类似ndarray类型\n",
    "\n",
    "- Series类型的操作类似Python字典类型\n",
    "#### Series类型包括index和values两部分\n"
   ]
  },
  {
   "cell_type": "code",
   "execution_count": 28,
   "metadata": {},
   "outputs": [
    {
     "data": {
      "text/plain": [
       "(Int64Index([1, 2, 3, 4, 5], dtype='int64'),\n",
       " Index(['a', 'b', 'c', 'd', 'e'], dtype='object'),\n",
       " array([5, 6, 7, 8, 9]))"
      ]
     },
     "execution_count": 28,
     "metadata": {},
     "output_type": "execute_result"
    }
   ],
   "source": [
    "import pandas as pd\n",
    "import numpy as np\n",
    "\n",
    "a1=pd.Series(np.arange(5,10,1),index=[1,2,3,4,5])\n",
    "a=pd.Series(np.arange(5,10,1))\n",
    "a=pd.Series(np.arange(5,10,1),index=[\"a\",\"b\",\"c\",\"d\",\"e\"])\n",
    "a1.index,a.index,a.values"
   ]
  },
  {
   "cell_type": "markdown",
   "metadata": {},
   "source": [
    "> index是pandas中的类型，array是numpy中的类型，所以pandas就是numpy的基础上加上了index类型而成的"
   ]
  },
  {
   "cell_type": "markdown",
   "metadata": {},
   "source": [
    "在pandas中即使使用了用户自定义索引，但是会有默认的系统索引存在，但是二者不能混合使用"
   ]
  },
  {
   "cell_type": "code",
   "execution_count": 34,
   "metadata": {},
   "outputs": [
    {
     "data": {
      "text/plain": [
       "(5, 5, a    5\n",
       " b    6\n",
       " c    7\n",
       " dtype: int32)"
      ]
     },
     "execution_count": 34,
     "metadata": {},
     "output_type": "execute_result"
    }
   ],
   "source": [
    "import pandas as pd\n",
    "import numpy as np\n",
    "\n",
    "a=pd.Series(np.arange(5,10,1),index=[\"a\",\"b\",\"c\",\"d\",\"e\"])\n",
    "a[0],a[\"a\"],a[[\"a\",\"b\",\"c\"]]\n",
    "#a[[\"a\",0]]  #两种索引不能同时使用"
   ]
  },
  {
   "cell_type": "markdown",
   "metadata": {},
   "source": [
    "#### Series类型的操作类似ndarray类型\n",
    "- 索引方法相同，采用[]\n",
    "- NumPy中运算和操作可用于Series类型\n",
    "- 可以通过自定义索引的列表进行切片\n",
    "- 可以通过自动索引进行切片，如果存在自定义索引，则一同被切片\n",
    "> 当Series类型通过索引取值时，返回的是一个值类型，当Series类型通过运算，切片，等操作，返回的就是一个Series类型，该类型包含索引和数值"
   ]
  },
  {
   "cell_type": "code",
   "execution_count": 36,
   "metadata": {},
   "outputs": [
    {
     "data": {
      "text/plain": [
       "(5, a    5\n",
       " b    6\n",
       " c    7\n",
       " d    8\n",
       " dtype: int32, 10     1.000000\n",
       " 9      2.718282\n",
       " 8      7.389056\n",
       " 7     20.085537\n",
       " 6     54.598150\n",
       " dtype: float64)"
      ]
     },
     "execution_count": 36,
     "metadata": {},
     "output_type": "execute_result"
    }
   ],
   "source": [
    "import pandas as pd\n",
    "import numpy as np\n",
    "\n",
    "a=pd.Series(np.arange(5,10,1),index=[\"a\",\"b\",\"c\",\"d\",\"e\"])\n",
    "a[0],a[:-1],np.exp(b)"
   ]
  },
  {
   "cell_type": "markdown",
   "metadata": {},
   "source": [
    "#### Series类型的操作类似Python字典类型\n",
    "- 通过自定义索引访问\n",
    "- 保留字in操作，用来判断给出的键值是否包含在字典总的键值中，这些键值时用户自定义的键值，不是系统默认键值\n",
    "- 使用.get()方法,.get(\"f\",n)方法，先判断键值f是否在字典中，如果在则返回f键对应的值，如果不错在，则返回n"
   ]
  },
  {
   "cell_type": "code",
   "execution_count": 41,
   "metadata": {},
   "outputs": [
    {
     "data": {
      "text/plain": [
       "(True, False, -999)"
      ]
     },
     "execution_count": 41,
     "metadata": {},
     "output_type": "execute_result"
    }
   ],
   "source": [
    "import pandas as pd\n",
    "import numpy as np\n",
    "\n",
    "a=pd.Series(np.arange(5,10,1),index=[\"a\",\"b\",\"c\",\"d\",\"e\"])\n",
    "\"a\"in a.index,0 in a.index,a.get(\"g\",-999)"
   ]
  },
  {
   "cell_type": "markdown",
   "metadata": {},
   "source": [
    "#### Series类型对齐操作\n",
    "Seriex对象+Series对象,在计算的过程中会自动将索引相同的值进行计算，索引不相同的则被赋值为NaN"
   ]
  },
  {
   "cell_type": "code",
   "execution_count": 53,
   "metadata": {},
   "outputs": [
    {
     "data": {
      "text/plain": [
       "a     NaN\n",
       "b    11.0\n",
       "c    11.0\n",
       "d     NaN\n",
       "g     NaN\n",
       "dtype: float64"
      ]
     },
     "execution_count": 53,
     "metadata": {},
     "output_type": "execute_result"
    }
   ],
   "source": [
    "import pandas as pd\n",
    "import numpy as np\n",
    "\n",
    "a=pd.Series(np.arange(1,5,1),index=[\"a\",\"b\",\"c\",\"d\"])\n",
    "b=pd.Series(np.arange(9,6,-1),index=[\"b\",\"c\",\"g\"])\n",
    "a+b"
   ]
  },
  {
   "cell_type": "markdown",
   "metadata": {},
   "source": [
    "### Series类型的name属性\n",
    "Series对象和索引都可以有一个名字，分别存储在属性Series对象.name和Series对象.index.name中"
   ]
  },
  {
   "cell_type": "code",
   "execution_count": 60,
   "metadata": {},
   "outputs": [
    {
     "name": "stdout",
     "output_type": "stream",
     "text": [
      "None None\n",
      "名字 索引\n"
     ]
    }
   ],
   "source": [
    "import pandas as pd\n",
    "import numpy as np\n",
    "\n",
    "a=pd.Series(np.arange(1,5,1),index=[\"a\",\"b\",\"c\",\"d\"])\n",
    "print(a.name,a.index.name)\n",
    "a.name=\"名字\"\n",
    "a.index.name=\"索引\"\n",
    "print(a.name,a.index.name)\n"
   ]
  },
  {
   "cell_type": "markdown",
   "metadata": {},
   "source": [
    "### Series对象的修改\n",
    "Series对象可以随时修改并即刻生效"
   ]
  },
  {
   "cell_type": "code",
   "execution_count": 64,
   "metadata": {},
   "outputs": [
    {
     "name": "stdout",
     "output_type": "stream",
     "text": [
      "10 None\n",
      "99 未知\n"
     ]
    }
   ],
   "source": [
    "import pandas as pd\n",
    "import numpy as np\n",
    "\n",
    "a=pd.Series(np.arange(1,5,1),index=[\"a\",\"b\",\"c\",\"d\"])\n",
    "a[0]=10\n",
    "print(a[\"a\"],a.name)\n",
    "a.name=\"未知\"\n",
    "a[\"a\"]=99\n",
    "print(a[0],a.name)"
   ]
  },
  {
   "cell_type": "markdown",
   "metadata": {},
   "source": [
    "### 总结\n",
    "Series是一维带“标签”数组\n"
   ]
  },
  {
   "cell_type": "markdown",
   "metadata": {},
   "source": [
    "## Pandas库的DataFrame类型\n",
    "Series是pandas的一维类型，DataFrame是pandas的二维或者多维类型\n",
    "\n",
    "定义：DataFrame类型由共用相同索引的一组列组成\n",
    "![](https://raw.githubusercontent.com/Raymond0225/picbed/master/img/20190906210606.png)\n",
    "DataFrame是一个表格型的数据类型，每列值类型可以不同\n",
    "\n",
    "DataFrame既有行索引index、也有列索引column，\n",
    "\n",
    "DataFrame常用于表达二维数据，但可以表达多维数据\n",
    "\n",
    "\n",
    "![](https://raw.githubusercontent.com/Raymond0225/picbed/master/img/20190906234800.png)\n",
    "### DataFrame类型的创建\n",
    "DataFrame类型可以由如下类型创建：\n",
    "- 二维ndarray对象 \n",
    "- 由一维ndarray、列表、字典、元组或Series构成的字典（最常用），当用字典的时候，键为columns，index可以默认或者自定义，当用二维数组时候，columns和index可以默认和自定义\n",
    "- Series类型 \n",
    "- 其他的DataFrame类型"
   ]
  },
  {
   "cell_type": "markdown",
   "metadata": {},
   "source": [
    "#### 从一，二维数组ndarray对象创建"
   ]
  },
  {
   "cell_type": "code",
   "execution_count": 28,
   "metadata": {},
   "outputs": [
    {
     "name": "stdout",
     "output_type": "stream",
     "text": [
      "    0   1   2\n",
      "0  98  12  55\n",
      "1  25  22  65\n",
      "*******************\n",
      "           0\n",
      "0  11.000000\n",
      "1  12.571429\n",
      "2  14.142857\n",
      "3  15.714286\n",
      "4  17.285714\n",
      "5  18.857143\n",
      "6  20.428571\n",
      "7  22.000000\n"
     ]
    }
   ],
   "source": [
    "import numpy as np\n",
    "import pandas as pd\n",
    "\n",
    "a1=np.random.randint(100,size=(2,3))\n",
    "a2=np.linspace(11,22,8)\n",
    "d1=pd.DataFrame(a1)\n",
    "d2=pd.DataFrame(a2)\n",
    "print(d1)\n",
    "print(\"*******************\")\n",
    "print(d2)"
   ]
  },
  {
   "cell_type": "markdown",
   "metadata": {},
   "source": [
    "#### 从Series对象字典创建\n"
   ]
  },
  {
   "cell_type": "code",
   "execution_count": 20,
   "metadata": {},
   "outputs": [
    {
     "name": "stdout",
     "output_type": "stream",
     "text": [
      "   one  two\n",
      "一  1.0  NaN\n",
      "三  3.0  NaN\n",
      "九  9.0  9.0\n",
      "二  NaN  2.0\n",
      "五  5.0  NaN\n",
      "六  NaN  6.0\n",
      "四  NaN  4.0\n",
      "*********************\n",
      "   one three\n",
      "一  1.0   NaN\n",
      "二  NaN   NaN\n",
      "九  9.0   NaN\n"
     ]
    }
   ],
   "source": [
    "import numpy as np\n",
    "import pandas as pd\n",
    "\n",
    "a={\"one\":pd.Series([1,3,5,9],index=[\"一\",\"三\",\"五\",\"九\"]),\n",
    "   \"two\":pd.Series([2,4,6,9],index=[\"二\",\"四\",\"六\",\"九\"])}\n",
    "\n",
    "d1=pd.DataFrame(a)\n",
    "d2=pd.DataFrame(a,index=[\"一\",\"二\",\"九\"],\n",
    "                columns=[\"one\",\"three\"])\n",
    "print(d1)\n",
    "print(\"*********************\")\n",
    "print(d2)"
   ]
  },
  {
   "cell_type": "markdown",
   "metadata": {},
   "source": [
    "> DataFrame也可以从字典中挑选元素放入到DataFrame对象中"
   ]
  },
  {
   "cell_type": "markdown",
   "metadata": {},
   "source": [
    "#### 从列表类型的字典来创建"
   ]
  },
  {
   "cell_type": "code",
   "execution_count": 38,
   "metadata": {},
   "outputs": [
    {
     "name": "stdout",
     "output_type": "stream",
     "text": [
      "          one         two\n",
      "A   [1, 3, 5]   [2, 4, 6]\n",
      "B  [7, 9, 11]  [7, 9, 11]\n",
      "**************\n",
      "   one  two\n",
      "A    1    2\n",
      "B    3    4\n",
      "C    5    6\n"
     ]
    }
   ],
   "source": [
    "import numpy as np\n",
    "import pandas as pd\n",
    "\n",
    "a1={\"one\":[[1,3,5],[7,9,11]],\"two\":[[2,4,6],[7,9,11]]}\n",
    "a2={\"one\":[1,3,5],\"two\":[2,4,6]}\n",
    "d1=pd.DataFrame(a1,index=[\"A\",\"B\"])#,index=[\"A\",\"B\",\"C\"]\n",
    "d2=pd.DataFrame(a2,index=[\"A\",\"B\",\"C\"])\n",
    "print(d1)\n",
    "print(\"**************\")\n",
    "print(d2)"
   ]
  },
  {
   "cell_type": "markdown",
   "metadata": {},
   "source": [
    "#### 实例\n",
    "> DataFrame对象d，使用d[index]可以获取axis=1上的数据，也就是表格的一列，使用d.ix[index]可以获取axis=0上的数据，也就是表格中的一行数据。但是二者道道的数据都是Series类型，因为都有索引存在。"
   ]
  },
  {
   "cell_type": "code",
   "execution_count": 60,
   "metadata": {},
   "outputs": [
    {
     "name": "stdout",
     "output_type": "stream",
     "text": [
      "    城市     环比     同比     定基\n",
      "c1  北京  101.5  120.7  121.4\n",
      "c2  上海  101.2  127.3  127.8\n",
      "c3  广州  101.3  119.4  120.0\n",
      "c4  深圳  102.0  140.9  145.5\n",
      "c5  沈阳  100.1  101.4  101.6\n",
      "******************************************************\n",
      "c1    101.5\n",
      "c2    101.2\n",
      "c3    101.3\n",
      "c4    102.0\n",
      "c5    100.1\n",
      "Name: 环比, dtype: float64\n",
      "************************************************\n",
      "城市       广州\n",
      "环比    101.3\n",
      "同比    119.4\n",
      "定基      120\n",
      "Name: c3, dtype: object\n",
      "************************************************\n",
      "101.3\n"
     ]
    },
    {
     "name": "stderr",
     "output_type": "stream",
     "text": [
      "D:\\Develop\\Anaconda3\\lib\\site-packages\\ipykernel_launcher.py:15: DeprecationWarning: \n",
      ".ix is deprecated. Please use\n",
      ".loc for label based indexing or\n",
      ".iloc for positional indexing\n",
      "\n",
      "See the documentation here:\n",
      "http://pandas.pydata.org/pandas-docs/stable/indexing.html#ix-indexer-is-deprecated\n",
      "  from ipykernel import kernelapp as app\n"
     ]
    }
   ],
   "source": [
    "import pandas as pd\n",
    "\n",
    "d1 = {\"城市\": [\"北京\", \"上海\", \"广州\", \"深圳\", \"沈阳\"],\n",
    "\n",
    "      \"环比\": [101.5, 101.2, 101.3, 102.0, 100.1],\n",
    "\n",
    "      \"同比\": [120.7, 127.3, 119.4, 140.9, 101.4],\n",
    "\n",
    "      \"定基\": [121.4, 127.8, 120.0, 145.5, 101.6]}\n",
    "\n",
    "d = pd.DataFrame(d1, index=['c1', 'c2', 'c3', 'c4', 'c5'])\n",
    "\n",
    "print(d,end=\"\\n******************************************************\\n\")\n",
    "print(d[\"环比\"],end=\"\\n************************************************\\n\")\n",
    "print(d.ix[\"c3\"],end=\"\\n************************************************\\n\")\n",
    "print(d[\"环比\"][\"c3\"])"
   ]
  },
  {
   "cell_type": "markdown",
   "metadata": {},
   "source": [
    "### pandas库的数据类型操作\n",
    "如何改变Series和DataFrame对象？\n",
    "\n",
    "增加或重排：重新索引\n",
    "\n",
    "删除：drop\n",
    "#### 重新索引\n",
    ".reindex()能够改变或重排Series和DataFrame索引"
   ]
  },
  {
   "cell_type": "code",
   "execution_count": 71,
   "metadata": {},
   "outputs": [
    {
     "name": "stdout",
     "output_type": "stream",
     "text": [
      "Index(['c1', 'c2', 'c3', 'c4', 'c5'], dtype='object')\n",
      "**********************************************************************\n",
      "Index(['城市', '环比', '同比', '定基'], dtype='object')\n",
      "**********************************************************************\n",
      "    城市     环比     同比     定基\n",
      "c5  沈阳  100.1  101.4  101.6\n",
      "c4  深圳  102.0  140.9  145.5\n",
      "c3  广州  101.3  119.4  120.0\n",
      "c2  上海  101.2  127.3  127.8\n",
      "c1  北京  101.5  120.7  121.4\n",
      "**********************************************************************\n",
      "    顶级     定基     同比     环比  城市\n",
      "c1 NaN  121.4  120.7  101.5  北京\n",
      "c2 NaN  127.8  127.3  101.2  上海\n",
      "c3 NaN  120.0  119.4  101.3  广州\n",
      "c4 NaN  145.5  140.9  102.0  深圳\n",
      "c5 NaN  101.6  101.4  100.1  沈阳\n"
     ]
    }
   ],
   "source": [
    "import pandas as pd\n",
    "\n",
    "d1 = {\"城市\": [\"北京\", \"上海\", \"广州\", \"深圳\", \"沈阳\"],\n",
    "\n",
    "      \"环比\": [101.5, 101.2, 101.3, 102.0, 100.1],\n",
    "\n",
    "      \"同比\": [120.7, 127.3, 119.4, 140.9, 101.4],\n",
    "\n",
    "      \"定基\": [121.4, 127.8, 120.0, 145.5, 101.6]}\n",
    "\n",
    "d = pd.DataFrame(d1, index=['c1', 'c2', 'c3', 'c4', 'c5'])\n",
    "\n",
    "print(d.index,end=\"\\n**********************************************************************\\n\" )\n",
    "print(d.columns,end=\"\\n**********************************************************************\\n\" )\n",
    "print(d.reindex(index=['c5', 'c4', 'c3', 'c2', 'c1']),end=\"\\n**********************************************************************\\n\" )      \n",
    "print(d.reindex(columns=[\"顶级\",\"定基\",\"同比\",\"环比\",\"城市\"]))"
   ]
  },
  {
   "cell_type": "markdown",
   "metadata": {},
   "source": [
    ".reindex(index,columns....)\n",
    "\n",
    "|参数|说明|\n",
    "|-|-|\n",
    "|index, columns|新的行列自定义索引|\n",
    "|fill_value|重新索引中，用于填充缺失位置的值|\n",
    "|method|填充方法, ffill当前值用前一个数据来填充，bfill用后一个数据填充(验证出错)|\n",
    "|limit|最大填充量|\n",
    "|copy|默认True，生成新的对象，False时，新旧相等不复制|\n"
   ]
  },
  {
   "cell_type": "markdown",
   "metadata": {},
   "source": [
    "#####  索引类型\n",
    "如上所述，Series和DataFrame的索引是Index类型，Index对象是不可修改类型，通过该类型可以对DataFrame对象进行数据的增删，到对数据某行或者某列操作完之后，再用.reindex()函数重新索引，建立起新的DataFrame对象。\n",
    "###### Index索引类型常用方法\n",
    "|方法|说明|\n",
    "|-|-|\n",
    "|.append(idx)|连接另一个Index对象，产生新的Index对象|\n",
    "|.diff(idx)|计算差集，产生新的Index对象|\n",
    "|.intersection(idx)|计算交集|\n",
    "|.union(idx)|计算并集|\n",
    "|.delete(loc)|删除loc位置处的元素|\n",
    "|.insert(loc,e)|在loc位置增加一个元素e|\n"
   ]
  },
  {
   "cell_type": "code",
   "execution_count": 30,
   "metadata": {},
   "outputs": [
    {
     "name": "stdout",
     "output_type": "stream",
     "text": [
      "    城市     环比     同比     定基\n",
      "c1  北京  101.5  120.7  121.4\n",
      "c2  上海  101.2  127.3  127.8\n",
      "c3  广州  101.3  119.4  120.0\n",
      "c4  深圳  102.0  140.9  145.5\n",
      "c5  沈阳  100.1  101.4  101.6\n",
      "**********************************************************************\n",
      "Index(['城市', '环比', '定基'], dtype='object')\n",
      "**********************************************************************\n",
      "Index(['c1', 'c2', 'c3', 'c4', 'c5', 'c6'], dtype='object')\n",
      "**********************************************************************\n",
      "     城市     环比     定基\n",
      "c1   北京  101.5  121.4\n",
      "c2   上海  101.2  127.8\n",
      "c3   广州  101.3  120.0\n",
      "c4   深圳  102.0  145.5\n",
      "c5   沈阳  100.1  101.6\n",
      "c6  999  999.0  999.0\n",
      "**********************************************************************\n"
     ]
    },
    {
     "data": {
      "text/html": [
       "<div>\n",
       "<style scoped>\n",
       "    .dataframe tbody tr th:only-of-type {\n",
       "        vertical-align: middle;\n",
       "    }\n",
       "\n",
       "    .dataframe tbody tr th {\n",
       "        vertical-align: top;\n",
       "    }\n",
       "\n",
       "    .dataframe thead th {\n",
       "        text-align: right;\n",
       "    }\n",
       "</style>\n",
       "<table border=\"1\" class=\"dataframe\">\n",
       "  <thead>\n",
       "    <tr style=\"text-align: right;\">\n",
       "      <th></th>\n",
       "      <th>城市</th>\n",
       "      <th>环比</th>\n",
       "      <th>同比</th>\n",
       "      <th>定基</th>\n",
       "    </tr>\n",
       "  </thead>\n",
       "  <tbody>\n",
       "    <tr>\n",
       "      <th>c1</th>\n",
       "      <td>北京</td>\n",
       "      <td>101.5</td>\n",
       "      <td>120.7</td>\n",
       "      <td>121.4</td>\n",
       "    </tr>\n",
       "    <tr>\n",
       "      <th>c2</th>\n",
       "      <td>上海</td>\n",
       "      <td>101.2</td>\n",
       "      <td>127.3</td>\n",
       "      <td>127.8</td>\n",
       "    </tr>\n",
       "    <tr>\n",
       "      <th>c3</th>\n",
       "      <td>广州</td>\n",
       "      <td>101.3</td>\n",
       "      <td>119.4</td>\n",
       "      <td>120.0</td>\n",
       "    </tr>\n",
       "    <tr>\n",
       "      <th>c4</th>\n",
       "      <td>深圳</td>\n",
       "      <td>102.0</td>\n",
       "      <td>140.9</td>\n",
       "      <td>145.5</td>\n",
       "    </tr>\n",
       "    <tr>\n",
       "      <th>c5</th>\n",
       "      <td>沈阳</td>\n",
       "      <td>100.1</td>\n",
       "      <td>101.4</td>\n",
       "      <td>101.6</td>\n",
       "    </tr>\n",
       "  </tbody>\n",
       "</table>\n",
       "</div>"
      ],
      "text/plain": [
       "    城市     环比     同比     定基\n",
       "c1  北京  101.5  120.7  121.4\n",
       "c2  上海  101.2  127.3  127.8\n",
       "c3  广州  101.3  119.4  120.0\n",
       "c4  深圳  102.0  140.9  145.5\n",
       "c5  沈阳  100.1  101.4  101.6"
      ]
     },
     "execution_count": 30,
     "metadata": {},
     "output_type": "execute_result"
    }
   ],
   "source": [
    "import pandas as pd\n",
    "\n",
    "d1 = {\"城市\": [\"北京\", \"上海\", \"广州\", \"深圳\", \"沈阳\"],\n",
    "\n",
    "      \"环比\": [101.5, 101.2, 101.3, 102.0, 100.1],\n",
    "\n",
    "      \"同比\": [120.7, 127.3, 119.4, 140.9, 101.4],\n",
    "\n",
    "      \"定基\": [121.4, 127.8, 120.0, 145.5, 101.6]}\n",
    "\n",
    "d = pd.DataFrame(d1, index=['c1', 'c2', 'c3', 'c4', 'c5'])\n",
    "print(d, end=\"\\n**********************************************************************\\n\")\n",
    "nindex = d.columns.delete(2)\n",
    "nindex = d.index.insert(5, \"c6\")\n",
    "print(ncolumns, end=\"\\n**********************************************************************\\n\")\n",
    "print(nindex, end=\"\\n**********************************************************************\\n\")\n",
    "nd = d.reindex(index=nindex, columns=ncolumns, fill_value=999)\n",
    "print(nd, end=\"\\n**********************************************************************\\n\")\n",
    "d  # 注意此时d原来的值并没有改变，nd是一个新的DataFrame对象，因为.reindex()函数copy参数默认为False"
   ]
  },
  {
   "cell_type": "markdown",
   "metadata": {},
   "source": [
    "#### 删除指定索引对象\n",
    ".drop()能够删除Series和DataFrame指定行或者列索引\n",
    "- 对于Series对象，drop只能删除axis=0上的索引和数据\n",
    "- 对于DataFrame对象，drop默认删除axis=0上的索引和数据，当想要删除columns上的数据的时候，需要传入参数axis=1，即为d.drop(\"columns1\",axis=1)\n"
   ]
  },
  {
   "cell_type": "code",
   "execution_count": 37,
   "metadata": {},
   "outputs": [
    {
     "name": "stdout",
     "output_type": "stream",
     "text": [
      "    城市     环比     同比     定基\n",
      "c2  上海  101.2  127.3  127.8\n",
      "c3  广州  101.3  119.4  120.0\n",
      "c4  深圳  102.0  140.9  145.5\n",
      "c5  沈阳  100.1  101.4  101.6\n",
      "**********************************************************************\n",
      "    城市     同比     定基\n",
      "c1  北京  120.7  121.4\n",
      "c2  上海  127.3  127.8\n",
      "c3  广州  119.4  120.0\n",
      "c4  深圳  140.9  145.5\n",
      "c5  沈阳  101.4  101.6\n"
     ]
    }
   ],
   "source": [
    "d1 = {\"城市\": [\"北京\", \"上海\", \"广州\", \"深圳\", \"沈阳\"],\n",
    "\n",
    "      \"环比\": [101.5, 101.2, 101.3, 102.0, 100.1],\n",
    "\n",
    "      \"同比\": [120.7, 127.3, 119.4, 140.9, 101.4],\n",
    "\n",
    "      \"定基\": [121.4, 127.8, 120.0, 145.5, 101.6]}\n",
    "d=pd.DataFrame(d1,index=['c1', 'c2', 'c3', 'c4', 'c5'])\n",
    "print(d.drop(\"c1\"),end=\"\\n**********************************************************************\\n\")\n",
    "print(d.drop(\"环比\",axis=1))"
   ]
  },
  {
   "cell_type": "markdown",
   "metadata": {},
   "source": [
    "### pandas库的数据类型运算\n",
    "#### 算数运算法则（符号化）\n",
    "- 算术运算根据行列索引相同(行列索引都得相同)进行计算，补齐后运算，运算默认产生浮点数\n",
    "- 补齐时填充NaN（空置）\n",
    "- 二维和一维，一维和标量（零维）之间为广播运算（低纬度会和高纬度的每一个元素机型计算）\n",
    "- 采用+ ‐* /符号进行的二元运算产生新的对象"
   ]
  },
  {
   "cell_type": "code",
   "execution_count": 60,
   "metadata": {},
   "outputs": [
    {
     "name": "stdout",
     "output_type": "stream",
     "text": [
      "   一  二   三   四\n",
      "A  0  1   2   3\n",
      "B  4  5   6   7\n",
      "C  8  9  10  11\n",
      "**********************************************************************\n",
      "   一  二  三  四  五\n",
      "A  0  1  2  3  4\n",
      "B  5  6  7  8  9\n",
      "**********************************************************************\n",
      "     一     二     三     四   五\n",
      "A  0.0   2.0   4.0   6.0 NaN\n",
      "B  9.0  11.0  13.0  15.0 NaN\n",
      "C  NaN   NaN   NaN   NaN NaN\n",
      "**********************************************************************\n",
      "      一     三     二   五     四\n",
      "A   0.0   4.0   1.0 NaN   9.0\n",
      "B  20.0  42.0  30.0 NaN  56.0\n",
      "C   NaN   NaN   NaN NaN   NaN\n"
     ]
    }
   ],
   "source": [
    "import numpy as np\n",
    "import pandas as pd\n",
    "\n",
    "a=pd.DataFrame(np.arange(12).reshape(3,4),\n",
    "               index=[\"A\",\"B\",\"C\"],\n",
    "                columns=[\"一\",\"二\",\"三\",\"四\"])\n",
    "b=pd.DataFrame(np.arange(10).reshape(2,5),\n",
    "               index=[\"A\",\"B\"],\n",
    "                columns=[\"一\",\"二\",\"三\",\"四\",\"五\"])\n",
    "print(a,end=\"\\n**********************************************************************\\n\" )\n",
    "print(b,end=\"\\n**********************************************************************\\n\" )\n",
    "print((a+b).reindex(columns=[\"一\",\"二\",\"三\",\"四\",\"五\"]),end=\"\\n**********************************************************************\\n\" )\n",
    "print(a*b)"
   ]
  },
  {
   "cell_type": "markdown",
   "metadata": {},
   "source": [
    "#### 算数运算法则（方法化）\n",
    "上面是用符号+-*/来做运算，我们也可以用方法来代替符号运算，好处是我们可以在方法中传入可选参数\n",
    "\n",
    "|方法|说明|\n",
    "|-|-|\n",
    "|.add(d, fill_value=num, **argws)|类型间加法运算，可选参数|\n",
    "|.sub(d, fill_value=num, **argws)|类型间减法运算，可选参数|\n",
    "|.mul(d, fill_value=num, **argws)|类型间乘法运算，可选参数|\n",
    "|.div(d, fill_value=num, **argws)|类型间除法运算，可选参数|\n",
    "\n",
    "> fill_value参数中的值可以代替任何操作数因索引不同而产生的缺失值"
   ]
  },
  {
   "cell_type": "code",
   "execution_count": 66,
   "metadata": {},
   "outputs": [
    {
     "name": "stdout",
     "output_type": "stream",
     "text": [
      "   一  二   三   四\n",
      "A  0  1   2   3\n",
      "B  4  5   6   7\n",
      "C  8  9  10  11\n",
      "**********************************************************************\n",
      "   一  二  三  四  五\n",
      "A  0  1  2  3  4\n",
      "B  5  6  7  8  9\n",
      "**********************************************************************\n",
      "     一     二     三     四    五\n",
      "A  0.0   2.0   4.0   6.0  4.0\n",
      "B  9.0  11.0  13.0  15.0  9.0\n",
      "C  8.0   9.0  10.0  11.0  NaN\n",
      "**********************************************************************\n",
      "      一     二     三     四    五\n",
      "A   0.0   1.0   4.0   9.0  0.0\n",
      "B  20.0  30.0  42.0  56.0  0.0\n",
      "C   0.0   0.0   0.0   0.0  NaN\n"
     ]
    }
   ],
   "source": [
    "import numpy as np\n",
    "import pandas as pd\n",
    "\n",
    "a=pd.DataFrame(np.arange(12).reshape(3,4),\n",
    "               index=[\"A\",\"B\",\"C\"],\n",
    "                columns=[\"一\",\"二\",\"三\",\"四\"])\n",
    "b=pd.DataFrame(np.arange(10).reshape(2,5),\n",
    "               index=[\"A\",\"B\"],\n",
    "                columns=[\"一\",\"二\",\"三\",\"四\",\"五\"])\n",
    "print(a,end=\"\\n**********************************************************************\\n\" )\n",
    "print(b,end=\"\\n**********************************************************************\\n\" )\n",
    "print((a.add(b,fill_value=0)).reindex(columns=[\"一\",\"二\",\"三\",\"四\",\"五\"]),end=\"\\n**********************************************************************\\n\" )\n",
    "print((a.mul(b,fill_value=0)).reindex(columns=[\"一\",\"二\",\"三\",\"四\",\"五\"]))"
   ]
  },
  {
   "cell_type": "markdown",
   "metadata": {},
   "source": [
    "#### 不同维度之间的计算（符号化）\n",
    "不同维度间为广播运算，一维Series默认在DataFrame的轴1参与运算"
   ]
  },
  {
   "cell_type": "code",
   "execution_count": 86,
   "metadata": {},
   "outputs": [
    {
     "name": "stdout",
     "output_type": "stream",
     "text": [
      "    0   1   2   3\n",
      "0  10  12  14  16\n",
      "1  18  20  22  24\n",
      "2  26  28  30  32\n",
      "**********************************************************************\n",
      "0    2\n",
      "1    3\n",
      "dtype: int32\n",
      "**********************************************************************\n",
      "      0     1   2   3\n",
      "0   8.0   9.0 NaN NaN\n",
      "1  16.0  17.0 NaN NaN\n",
      "2  24.0  25.0 NaN NaN\n"
     ]
    }
   ],
   "source": [
    "import numpy as np\n",
    "import pandas as pd\n",
    "\n",
    "a=pd.DataFrame(np.arange(10,34,2).reshape(3,4))\n",
    "b=pd.Series(np.linspace(2,3,2,dtype=np.int))\n",
    "print(a,end=\"\\n**********************************************************************\\n\" )\n",
    "print(b,end=\"\\n**********************************************************************\\n\" )\n",
    "print(a-b)"
   ]
  },
  {
   "cell_type": "markdown",
   "metadata": {},
   "source": [
    "#### 不同维度之间的计算（符号化）\n",
    "通过符号化计算，我们可以发现二维对一维做广播运算的时候，默认采用对二维的轴1进行计算，当我们想让对二维数据的轴0机型计算的时候，我们只能采用方法的参数来进行控制"
   ]
  },
  {
   "cell_type": "code",
   "execution_count": 87,
   "metadata": {},
   "outputs": [
    {
     "name": "stdout",
     "output_type": "stream",
     "text": [
      "    0   1   2   3\n",
      "0  10  12  14  16\n",
      "1  18  20  22  24\n",
      "2  26  28  30  32\n",
      "**********************************************************************\n",
      "0    2\n",
      "1    3\n",
      "dtype: int32\n",
      "**********************************************************************\n",
      "      0     1     2     3\n",
      "0   8.0  10.0  12.0  14.0\n",
      "1  15.0  17.0  19.0  21.0\n",
      "2   NaN   NaN   NaN   NaN\n"
     ]
    }
   ],
   "source": [
    "import numpy as np\n",
    "import pandas as pd\n",
    "\n",
    "a=pd.DataFrame(np.arange(10,34,2).reshape(3,4))\n",
    "b=pd.Series(np.linspace(2,3,2,dtype=np.int))\n",
    "print(a,end=\"\\n**********************************************************************\\n\" )\n",
    "print(b,end=\"\\n**********************************************************************\\n\" )\n",
    "print(a.sub(b,axis=0))"
   ]
  },
  {
   "cell_type": "markdown",
   "metadata": {},
   "source": [
    "### 数据类型的比较运算\n",
    "- 比较运算只能比较相同索引的元素，不进行补齐，相同维度的时候，不同轴的长度必须相等，否则程序报错\n",
    "- 二维和一维（默认在二维的轴1上）、一维和零维间为广播运算\n",
    "- 采用> < >= <= == !=等符号进行的二元运算产生布尔对象"
   ]
  },
  {
   "cell_type": "markdown",
   "metadata": {},
   "source": [
    "# 数据分析第三周第八单元\n",
    "## 数据的排序\n",
    "![](https://raw.githubusercontent.com/Raymond0225/picbed/master/img/20190907231602.png)\n",
    "摘要的第一个过程就是对数据进行排序，由于pandas中两种数据类型都可以直接对索引和数据分别进行操作，所以排序的时候自然也有两种方法。\n",
    "- .sort_index()方法在指定轴上根据索引进行排序，默认升序\n",
    "\n",
    ".sort_index(axis=0, ascending=True)"
   ]
  },
  {
   "cell_type": "code",
   "execution_count": 89,
   "metadata": {},
   "outputs": [
    {
     "data": {
      "text/html": [
       "<div>\n",
       "<style scoped>\n",
       "    .dataframe tbody tr th:only-of-type {\n",
       "        vertical-align: middle;\n",
       "    }\n",
       "\n",
       "    .dataframe tbody tr th {\n",
       "        vertical-align: top;\n",
       "    }\n",
       "\n",
       "    .dataframe thead th {\n",
       "        text-align: right;\n",
       "    }\n",
       "</style>\n",
       "<table border=\"1\" class=\"dataframe\">\n",
       "  <thead>\n",
       "    <tr style=\"text-align: right;\">\n",
       "      <th></th>\n",
       "      <th>3</th>\n",
       "      <th>2</th>\n",
       "      <th>1</th>\n",
       "      <th>0</th>\n",
       "    </tr>\n",
       "  </thead>\n",
       "  <tbody>\n",
       "    <tr>\n",
       "      <th>0</th>\n",
       "      <td>16</td>\n",
       "      <td>14</td>\n",
       "      <td>12</td>\n",
       "      <td>10</td>\n",
       "    </tr>\n",
       "    <tr>\n",
       "      <th>1</th>\n",
       "      <td>24</td>\n",
       "      <td>22</td>\n",
       "      <td>20</td>\n",
       "      <td>18</td>\n",
       "    </tr>\n",
       "    <tr>\n",
       "      <th>2</th>\n",
       "      <td>32</td>\n",
       "      <td>30</td>\n",
       "      <td>28</td>\n",
       "      <td>26</td>\n",
       "    </tr>\n",
       "  </tbody>\n",
       "</table>\n",
       "</div>"
      ],
      "text/plain": [
       "    3   2   1   0\n",
       "0  16  14  12  10\n",
       "1  24  22  20  18\n",
       "2  32  30  28  26"
      ]
     },
     "execution_count": 89,
     "metadata": {},
     "output_type": "execute_result"
    }
   ],
   "source": [
    "import numpy as np\n",
    "import pandas as pd\n",
    "\n",
    "a=pd.DataFrame(np.arange(10,34,2).reshape(3,4))\n",
    "a.sort_index(axis=1,ascending=False)"
   ]
  },
  {
   "cell_type": "markdown",
   "metadata": {},
   "source": [
    "- .sort_values()方法在指定轴上根据数值进行排序，默认升序\n",
    "\n",
    ".sort_values(by,axis, ascending=True),参数by是axis轴上的某个索引或者索引表来进行排序,参数axis默认值为0\n"
   ]
  },
  {
   "cell_type": "code",
   "execution_count": 9,
   "metadata": {},
   "outputs": [
    {
     "name": "stdout",
     "output_type": "stream",
     "text": [
      "   0  1   2   3\n",
      "A  0  1   2   3\n",
      "B  4  5   6   7\n",
      "C  8  9  10  11\n",
      "**********************************************************************\n",
      "   0  1   2   3\n",
      "C  8  9  10  11\n",
      "B  4  5   6   7\n",
      "A  0  1   2   3\n",
      "**********************************************************************\n",
      "    3   2  1  0\n",
      "A   3   2  1  0\n",
      "B   7   6  5  4\n",
      "C  11  10  9  8\n",
      "**********************************************************************\n"
     ]
    }
   ],
   "source": [
    "import numpy as np\n",
    "import pandas as pd\n",
    "\n",
    "a=pd.DataFrame(np.arange(12,dtype=np.int).reshape(3,4),index=[\"A\",\"B\",\"C\"])\n",
    "print(a,end=\"\\n**********************************************************************\\n\" )\n",
    "print(a.sort_values(2,ascending=False),end=\"\\n**********************************************************************\\n\" )\n",
    "print(a.sort_values(\"A\",axis=1,ascending=False),end=\"\\n**********************************************************************\\n\"  )"
   ]
  },
  {
   "cell_type": "markdown",
   "metadata": {},
   "source": [
    "### 对于NaN值统一放到排序的末尾\n"
   ]
  },
  {
   "cell_type": "code",
   "execution_count": 15,
   "metadata": {},
   "outputs": [
    {
     "name": "stdout",
     "output_type": "stream",
     "text": [
      "   0  1   2   3\n",
      "A  0  1   2   3\n",
      "B  4  5   6   7\n",
      "C  8  9  10  11\n",
      "**********************************************************************\n",
      "   0   1   2\n",
      "A  0   1   2\n",
      "B  3   4   5\n",
      "C  6   7   8\n",
      "D  9  10  11\n",
      "**********************************************************************\n",
      "      0     1     2   3\n",
      "C  14.0  16.0  18.0 NaN\n",
      "B   7.0   9.0  11.0 NaN\n",
      "A   0.0   2.0   4.0 NaN\n",
      "D   NaN   NaN   NaN NaN\n"
     ]
    }
   ],
   "source": [
    "import numpy as np\n",
    "import pandas as pd\n",
    "\n",
    "a=pd.DataFrame(np.arange(12,dtype=np.int).reshape(3,4),index=[\"A\",\"B\",\"C\"])\n",
    "b=pd.DataFrame(np.arange(12,dtype=np.int).reshape(4,3),index=[\"A\",\"B\",\"C\",\"D\"])\n",
    "print(a,end=\"\\n**********************************************************************\\n\" )\n",
    "print(b,end=\"\\n**********************************************************************\\n\" )\n",
    "c=a.add(b)\n",
    "print(c.sort_values(0,ascending=False))"
   ]
  },
  {
   "cell_type": "markdown",
   "metadata": {},
   "source": [
    "## 数据的基本统计分析\n",
    "### 基本的统计分析函数\n",
    "- 适用于Series和DataFrame类型\n",
    "\n",
    "|方法|说明|\n",
    "|-|-|\n",
    "|.sum()|计算数据的总和，按0轴计算，下同|\n",
    "|.count()|非NaN值的数量|\n",
    "|.mean() .median() |计算数据的算术平均值、算术中位数|\n",
    "|.var()  .std()|计算数据的方差、标准差|\n",
    "|.min().max()|计算数据的最小值、最大值|\n",
    "\n",
    "- 适用于Series类型\n",
    "\n",
    "|方法|说明|\n",
    "|-|-|\n",
    "|.argmin()  .argmax()|计算数据最大值、最小值所在位置的索引位置（自动索引）|\n",
    "|.idxmin()  .idxmax()|计算数据最大值、最小值所在位置的索引（自定义索引）|\n",
    "\n",
    "- 终极无敌总结上述所有方法（适用于Series和DataFrame类型）\n",
    "\n",
    "|方法|说明|\n",
    "|-|-|\n",
    "|.describe()|针对0轴（各列）的统计汇总|\n"
   ]
  },
  {
   "cell_type": "code",
   "execution_count": 24,
   "metadata": {},
   "outputs": [
    {
     "name": "stdout",
     "output_type": "stream",
     "text": [
      "0    0\n",
      "1    1\n",
      "2    2\n",
      "3    3\n",
      "4    4\n",
      "dtype: int32\n",
      "**********************************************************************\n",
      "   0  1   2   3\n",
      "A  0  1   2   3\n",
      "B  4  5   6   7\n",
      "C  8  9  10  11\n",
      "**********************************************************************\n",
      "         0    1     2     3\n",
      "count  3.0  3.0   3.0   3.0\n",
      "mean   4.0  5.0   6.0   7.0\n",
      "std    4.0  4.0   4.0   4.0\n",
      "min    0.0  1.0   2.0   3.0\n",
      "25%    2.0  3.0   4.0   5.0\n",
      "50%    4.0  5.0   6.0   7.0\n",
      "75%    6.0  7.0   8.0   9.0\n",
      "max    8.0  9.0  10.0  11.0\n",
      "**********************************************************************\n",
      "count    5.000000\n",
      "mean     2.000000\n",
      "std      1.581139\n",
      "min      0.000000\n",
      "25%      1.000000\n",
      "50%      2.000000\n",
      "75%      3.000000\n",
      "max      4.000000\n",
      "dtype: float64\n",
      "**********************************************************************\n",
      "0    4.0\n",
      "1    4.0\n",
      "2    4.0\n",
      "3    4.0\n",
      "Name: std, dtype: float64\n"
     ]
    },
    {
     "name": "stderr",
     "output_type": "stream",
     "text": [
      "D:\\Develop\\Anaconda3\\lib\\site-packages\\ipykernel_launcher.py:10: DeprecationWarning: \n",
      ".ix is deprecated. Please use\n",
      ".loc for label based indexing or\n",
      ".iloc for positional indexing\n",
      "\n",
      "See the documentation here:\n",
      "http://pandas.pydata.org/pandas-docs/stable/indexing.html#ix-indexer-is-deprecated\n",
      "  # Remove the CWD from sys.path while we load stuff.\n"
     ]
    }
   ],
   "source": [
    "import numpy as np\n",
    "import pandas as pd\n",
    "\n",
    "a=pd.Series(np.linspace(0,4,5),dtype=np.int)\n",
    "b=pd.DataFrame(np.arange(12,dtype=np.int).reshape(3,4),index=[\"A\",\"B\",\"C\"])\n",
    "print(a,end=\"\\n**********************************************************************\\n\" )\n",
    "print(b,end=\"\\n**********************************************************************\\n\" )\n",
    "print(b.describe(),end=\"\\n**********************************************************************\\n\" )\n",
    "print(a.describe(),end=\"\\n**********************************************************************\\n\" )\n",
    "print(b.describe().ix[\"std\"])"
   ]
  },
  {
   "cell_type": "markdown",
   "metadata": {},
   "source": [
    "## 数据的累计统计分析\n",
    "- 什么是数据的累计统计分析\n",
    "\n",
    "就是对前n个数据进行累计运算\n",
    "### 累计统计分析函数（适用于Series和DataFrame）\n",
    "\n",
    "|方法|说明|\n",
    "|-|-|\n",
    "|.cumsum()|依次给出前1、2、…、n个数的和|\n",
    "|.cumprod()|依次给出前1、2、…、n个数的积|\n",
    "|.cummax()|依次给出前1、2、…、n个数的最大值|\n",
    "|.cummin()|依次给出前1、2、…、n个数的最小值|\n",
    "\n",
    "> 默认axis为0轴\n",
    "\n"
   ]
  },
  {
   "cell_type": "code",
   "execution_count": 30,
   "metadata": {},
   "outputs": [
    {
     "name": "stdout",
     "output_type": "stream",
     "text": [
      "   0  1   2   3\n",
      "A  0  1   2   3\n",
      "B  4  5   6   7\n",
      "C  8  9  10  11\n",
      "**********************************************************************\n",
      "    0   1   2   3\n",
      "A   0   1   2   3\n",
      "B   4   6   8  10\n",
      "C  12  15  18  21\n",
      "**********************************************************************\n",
      "   0  1  2  3\n",
      "A  0  0  0  0\n",
      "B  4  4  4  4\n",
      "C  8  8  8  8\n"
     ]
    }
   ],
   "source": [
    "import numpy as np\n",
    "import pandas as pd\n",
    "\n",
    "b=pd.DataFrame(np.arange(12,dtype=np.int).reshape(3,4),index=[\"A\",\"B\",\"C\"])\n",
    "print(b,end=\"\\n**********************************************************************\\n\")\n",
    "print(b.cumsum(),end=\"\\n**********************************************************************\\n\" )\n",
    "print(b.cummin(axis=1))"
   ]
  },
  {
   "cell_type": "markdown",
   "metadata": {},
   "source": [
    "### 累计统计分析函数（窗口计算）（适用于Series和DataFrame）\n",
    "|方法|说明|\n",
    "|-|-|\n",
    "|.rolling(w).sum()|依次计算相邻w个元素的和|\n",
    "|.rolling(w).mean()|依次计算相邻w个元素的算术平均值|\n",
    "|.rolling(w).var()|依次计算相邻w个元素的方差|\n",
    "|.rolling(w).std()|依次计算相邻w个元素的标准差|\n",
    "|.rolling(w).min() .max()|依次计算相邻w个元素的最小值和最大值|\n"
   ]
  },
  {
   "cell_type": "code",
   "execution_count": 31,
   "metadata": {},
   "outputs": [
    {
     "name": "stdout",
     "output_type": "stream",
     "text": [
      "   0  1   2   3\n",
      "A  0  1   2   3\n",
      "B  4  5   6   7\n",
      "C  8  9  10  11\n",
      "**********************************************************************\n",
      "      0     1     2     3\n",
      "A   NaN   NaN   NaN   NaN\n",
      "B   4.0   6.0   8.0  10.0\n",
      "C  12.0  14.0  16.0  18.0\n"
     ]
    }
   ],
   "source": [
    "import numpy as np\n",
    "import pandas as pd\n",
    "\n",
    "b=pd.DataFrame(np.arange(12,dtype=np.int).reshape(3,4),index=[\"A\",\"B\",\"C\"])\n",
    "print(b,end=\"\\n**********************************************************************\\n\")\n",
    "print(b.rolling(2).sum())"
   ]
  },
  {
   "cell_type": "markdown",
   "metadata": {},
   "source": [
    "## 数据的相关分析\n",
    "- 两个事物，表示为X和Y，如何判断它们之间的存在相关性？\n",
    "\n",
    "相关性\n",
    "\n",
    "- X增大，Y增大，两个变量正相关 \n",
    "- X增大，Y减小，两个变量负相关 \n",
    "- X增大，Y无视，两个变量不相关"
   ]
  },
  {
   "cell_type": "markdown",
   "metadata": {},
   "source": [
    "# 。。。"
   ]
  },
  {
   "cell_type": "code",
   "execution_count": null,
   "metadata": {},
   "outputs": [],
   "source": []
  },
  {
   "cell_type": "code",
   "execution_count": null,
   "metadata": {},
   "outputs": [],
   "source": []
  },
  {
   "cell_type": "code",
   "execution_count": null,
   "metadata": {},
   "outputs": [],
   "source": []
  },
  {
   "cell_type": "code",
   "execution_count": null,
   "metadata": {},
   "outputs": [],
   "source": []
  }
 ],
 "metadata": {
  "kernelspec": {
   "display_name": "Python 3",
   "language": "python",
   "name": "python3"
  },
  "language_info": {
   "codemirror_mode": {
    "name": "ipython",
    "version": 3
   },
   "file_extension": ".py",
   "mimetype": "text/x-python",
   "name": "python",
   "nbconvert_exporter": "python",
   "pygments_lexer": "ipython3",
   "version": "3.7.3"
  },
  "toc": {
   "base_numbering": 1,
   "nav_menu": {},
   "number_sections": true,
   "sideBar": true,
   "skip_h1_title": false,
   "title_cell": "Table of Contents",
   "title_sidebar": "Contents",
   "toc_cell": false,
   "toc_position": {
    "height": "calc(100% - 180px)",
    "left": "10px",
    "top": "150px",
    "width": "306.875px"
   },
   "toc_section_display": true,
   "toc_window_display": false
  },
  "varInspector": {
   "cols": {
    "lenName": 16,
    "lenType": 16,
    "lenVar": 40
   },
   "kernels_config": {
    "python": {
     "delete_cmd_postfix": "",
     "delete_cmd_prefix": "del ",
     "library": "var_list.py",
     "varRefreshCmd": "print(var_dic_list())"
    },
    "r": {
     "delete_cmd_postfix": ") ",
     "delete_cmd_prefix": "rm(",
     "library": "var_list.r",
     "varRefreshCmd": "cat(var_dic_list()) "
    }
   },
   "types_to_exclude": [
    "module",
    "function",
    "builtin_function_or_method",
    "instance",
    "_Feature"
   ],
   "window_display": false
  }
 },
 "nbformat": 4,
 "nbformat_minor": 2
}
