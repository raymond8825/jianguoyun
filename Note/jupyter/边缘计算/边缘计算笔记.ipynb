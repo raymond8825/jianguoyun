{
 "cells": [
  {
   "cell_type": "markdown",
   "metadata": {},
   "source": [
    "# 什么是边缘计算？\n",
    "- 就是用网络边缘对数据进行分类，将部分数据放在边缘处理，减少延迟，从而实现实时和更高效的数据处理，以达到对云计算的有力补充\n",
    "- 将数据处理从网络中心下放到网络边缘的节点上进行处理\n",
    "- 对大量数据进行预处理，抽象化，精炼化\n",
    "# 边缘计算的优势\n",
    "- 实时或更快速的数据处理和分析：\n",
    "\n",
    "数据处理更接近数据来源，而不是在外部数据中心或云端进行，因此可以减少迟延时间。\n",
    "\n",
    "- 较低的成本：\n",
    "\n",
    "企业在本地设备的数据管理解决方案上的花费比在云和数据中心网络上的花费要少。\n",
    "\n",
    "- 网络流量较少：\n",
    "\n",
    "随着物联网设备数量的增加，数据生成继续以创纪录的速度增加。因此，网络带宽变得更加有限，让云端不堪重负，造成更大的数据瓶颈。\n",
    "\n",
    "- 更高的应用程序运行效率：\n",
    "\n",
    "随着滞后减少，应用程序能够以更快的速度更高效地运行。\n"
   ]
  },
  {
   "cell_type": "code",
   "execution_count": null,
   "metadata": {},
   "outputs": [],
   "source": []
  }
 ],
 "metadata": {
  "kernelspec": {
   "display_name": "Python 3",
   "language": "python",
   "name": "python3"
  },
  "language_info": {
   "codemirror_mode": {
    "name": "ipython",
    "version": 3
   },
   "file_extension": ".py",
   "mimetype": "text/x-python",
   "name": "python",
   "nbconvert_exporter": "python",
   "pygments_lexer": "ipython3",
   "version": "3.7.3"
  },
  "toc": {
   "base_numbering": 1,
   "nav_menu": {},
   "number_sections": true,
   "sideBar": true,
   "skip_h1_title": false,
   "title_cell": "Table of Contents",
   "title_sidebar": "Contents",
   "toc_cell": false,
   "toc_position": {},
   "toc_section_display": true,
   "toc_window_display": false
  },
  "varInspector": {
   "cols": {
    "lenName": 16,
    "lenType": 16,
    "lenVar": 40
   },
   "kernels_config": {
    "python": {
     "delete_cmd_postfix": "",
     "delete_cmd_prefix": "del ",
     "library": "var_list.py",
     "varRefreshCmd": "print(var_dic_list())"
    },
    "r": {
     "delete_cmd_postfix": ") ",
     "delete_cmd_prefix": "rm(",
     "library": "var_list.r",
     "varRefreshCmd": "cat(var_dic_list()) "
    }
   },
   "types_to_exclude": [
    "module",
    "function",
    "builtin_function_or_method",
    "instance",
    "_Feature"
   ],
   "window_display": false
  }
 },
 "nbformat": 4,
 "nbformat_minor": 2
}
