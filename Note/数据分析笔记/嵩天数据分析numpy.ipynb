{
 "cells": [
  {
   "cell_type": "markdown",
   "metadata": {},
   "source": [
    "# Numpy的使用\n",
    "\n",
    "## ndarray实例\n",
    "\n",
    "*ndarray在numpy中的别名是array*\n",
    "\n",
    "np.array()生成一个ndarray数组\n",
    "\n",
    "np.array()输出成[]形式，元素由空格分开\n",
    "\n",
    "|属性|说明|\n",
    "|----|----|\n",
    "|.ndim|秩，即轴的数量或维度的数量|\n",
    "|.shape|元组的各个元素分别表示ndarray对象不同轴的长度，对于矩阵，n行m列|\n",
    "|.size|ndarray对象元素的个数，相当于.shape中的nxm的值|\n",
    "|.dtype|ndarray对象的元素类型 |\n",
    "|.itemsize|ndarray对象每个元素的大小，以字节为单位|"
   ]
  },
  {
   "cell_type": "code",
   "execution_count": 6,
   "metadata": {},
   "outputs": [
    {
     "data": {
      "text/plain": [
       "(2, (2, 3), 6, dtype('int32'), 4)"
      ]
     },
     "execution_count": 6,
     "metadata": {},
     "output_type": "execute_result"
    }
   ],
   "source": [
    "import numpy as np\n",
    "a=np.array([[1,2,3],[4,5,6]])\n",
    "a.ndim,a.shape,a.size,a.dtype,a.itemsize"
   ]
  },
  {
   "cell_type": "markdown",
   "metadata": {},
   "source": [
    "## ndarray为什么要支持这么多种元素类型而python中仅支持整数，浮点数和复数？\n",
    "- 科学计算涉及的数据较多，对存储和性能有较高的要求\n",
    "- 对元素类型精细定义，有助于NumPy合理使用存储空间并优化性能\n",
    "- 对元素类型精细定义，有助于程序员对程序规模有合理评估"
   ]
  },
  {
   "cell_type": "markdown",
   "metadata": {},
   "source": [
    "## ndarray数组创建方法\n",
    "1. 从python中的列表，元组等类型创建ndarray数组\n",
    "> x = np.array(list/tuple)\n",
    "> x = np.array(list/tuple,dtype=np.float32)"
   ]
  },
  {
   "cell_type": "code",
   "execution_count": 12,
   "metadata": {},
   "outputs": [
    {
     "data": {
      "text/plain": [
       "(array([[1, 2, 3],\n",
       "        [4, 5, 6]]), array([[11, 22, 33],\n",
       "        [44, 55, 66]]))"
      ]
     },
     "execution_count": 12,
     "metadata": {},
     "output_type": "execute_result"
    }
   ],
   "source": [
    "import numpy as np\n",
    "np.array([[1,2,3],[4,5,6]])\n",
    "np.array(((11,22,33),(44,55,66)))\n",
    "a,b"
   ]
  },
  {
   "cell_type": "markdown",
   "metadata": {},
   "source": [
    "2. 使用NumPy中函数创建ndarray数组，如：arange, ones, zeros等\n",
    "\n",
    "|函数|说明|\n",
    "|----|----|\n",
    "|np.arange(n)|类似range()函数，返回ndarray类型，元素从0到n‐1 |\n",
    "|np.ones(shape)|根据shape生成一个全1数组，shape是元组类型|\n",
    "|np.zeros(shape)|根据shape生成一个全0数组，shape是元组类型|\n",
    "|np.full(shape,val)|根据shape生成一个数组，每个元素值都是val|\n",
    "|np.eye(n)|创建一个正方的n*n单位矩阵，对角线为1，其余为0|\n",
    "|***********|***********|\n",
    "|np.ones_like(a)|根据数组a的形状生成一个全1数组 |\n",
    "|np.zeros_like(a)|根据数组a的形状生成一个全0数组 |\n",
    "|np.full_like(a,val)|根据数组a的形状生成一个数组，每个元素值都是val|\n",
    "|***********|***********|\n",
    "|np.linspace(n1,n2,n3)|根据起止数据等间距地填充数据，形成数组,n1为生成数组的第一个值，n2为最后一个值，n3为数组中元素的个数，还有一个endpoint的参数，在下面例子中可以看到|\n",
    "|np.concatenate((a,b,c))|将两个或多个数组合并成一个新的数组,这些数组必须形成一个元组才可以合并成一个数组|"
   ]
  },
  {
   "cell_type": "code",
   "execution_count": 5,
   "metadata": {},
   "outputs": [
    {
     "data": {
      "text/plain": [
       "array([0, 1, 2, 3, 4, 5, 6, 7, 8, 9])"
      ]
     },
     "execution_count": 5,
     "metadata": {},
     "output_type": "execute_result"
    }
   ],
   "source": [
    "np.arange(10)"
   ]
  },
  {
   "cell_type": "code",
   "execution_count": 7,
   "metadata": {},
   "outputs": [
    {
     "data": {
      "text/plain": [
       "array([[1., 1., 1., 1., 1.],\n",
       "       [1., 1., 1., 1., 1.],\n",
       "       [1., 1., 1., 1., 1.]])"
      ]
     },
     "execution_count": 7,
     "metadata": {},
     "output_type": "execute_result"
    }
   ],
   "source": [
    "np.ones((3,5))"
   ]
  },
  {
   "cell_type": "code",
   "execution_count": 9,
   "metadata": {},
   "outputs": [
    {
     "data": {
      "text/plain": [
       "array([[0., 0., 0.],\n",
       "       [0., 0., 0.]])"
      ]
     },
     "execution_count": 9,
     "metadata": {},
     "output_type": "execute_result"
    }
   ],
   "source": [
    "np.zeros((2,3))"
   ]
  },
  {
   "cell_type": "code",
   "execution_count": 10,
   "metadata": {},
   "outputs": [
    {
     "data": {
      "text/plain": [
       "array([[8, 8, 8],\n",
       "       [8, 8, 8]])"
      ]
     },
     "execution_count": 10,
     "metadata": {},
     "output_type": "execute_result"
    }
   ],
   "source": [
    "np.full((2,3),8)"
   ]
  },
  {
   "cell_type": "code",
   "execution_count": 11,
   "metadata": {},
   "outputs": [
    {
     "data": {
      "text/plain": [
       "array([[1., 0., 0.],\n",
       "       [0., 1., 0.],\n",
       "       [0., 0., 1.]])"
      ]
     },
     "execution_count": 11,
     "metadata": {},
     "output_type": "execute_result"
    }
   ],
   "source": [
    "np.eye(3)"
   ]
  },
  {
   "cell_type": "code",
   "execution_count": 13,
   "metadata": {},
   "outputs": [
    {
     "data": {
      "text/plain": [
       "array([[1., 1., 1.],\n",
       "       [1., 1., 1.],\n",
       "       [1., 1., 1.]])"
      ]
     },
     "execution_count": 13,
     "metadata": {},
     "output_type": "execute_result"
    }
   ],
   "source": [
    "np.ones_like([[1., 0., 0.],\n",
    "              [0., 1., 0.],\n",
    "              [0., 0., 1.]])"
   ]
  },
  {
   "cell_type": "code",
   "execution_count": 14,
   "metadata": {},
   "outputs": [
    {
     "data": {
      "text/plain": [
       "array([[8., 8., 8.],\n",
       "       [8., 8., 8.],\n",
       "       [8., 8., 8.]])"
      ]
     },
     "execution_count": 14,
     "metadata": {},
     "output_type": "execute_result"
    }
   ],
   "source": [
    "np.full_like([[1., 0., 0.],\n",
    "              [0., 1., 0.],\n",
    "              [0., 0., 1.]],8)"
   ]
  },
  {
   "cell_type": "code",
   "execution_count": 21,
   "metadata": {},
   "outputs": [
    {
     "data": {
      "text/plain": [
       "(array([ 1.,  4.,  7., 10.]),\n",
       " array([1.  , 3.25, 5.5 , 7.75]),\n",
       " array([ 1.  ,  4.  ,  7.  , 10.  ,  1.  ,  3.25,  5.5 ,  7.75]))"
      ]
     },
     "execution_count": 21,
     "metadata": {},
     "output_type": "execute_result"
    }
   ],
   "source": [
    "a = np.linspace(1, 10, 4)\n",
    "b = np.linspace(1,10,4,endpoint=False)\n",
    "c=np.concatenate((a,b))\n",
    "a,b,c"
   ]
  },
  {
   "cell_type": "markdown",
   "metadata": {},
   "source": [
    "#### 为什么numpy生成的数为什么默认为浮点数呢？\n",
    "浮点数用于科学计算"
   ]
  },
  {
   "cell_type": "markdown",
   "metadata": {},
   "source": [
    "## ndarray数组的变换\n",
    "对于创建后的ndarray数组，可以对其进行维度变换和元素类型变换\n",
    "### 数组维度的变换\n",
    "|方法|说明|\n",
    "|----|----|\n",
    "|.reshape(shape)|不改变数组元素，返回一个shape形状的数组，原数组不变 |\n",
    "|.resize(shape)|与.reshape()功能一致，但修改原数组|\n",
    "|.swapaxes(ax1,ax2)|将数组n个维度中两个维度进行调换 |\n",
    "|.flatten()|对数组进行降维，返回折叠后的一维数组，原数组不变|"
   ]
  },
  {
   "cell_type": "code",
   "execution_count": null,
   "metadata": {},
   "outputs": [],
   "source": []
  },
  {
   "cell_type": "code",
   "execution_count": 29,
   "metadata": {},
   "outputs": [
    {
     "data": {
      "text/plain": [
       "(array([[[1, 1, 1, 1],\n",
       "         [1, 1, 1, 1],\n",
       "         [1, 1, 1, 1]],\n",
       " \n",
       "        [[1, 1, 1, 1],\n",
       "         [1, 1, 1, 1],\n",
       "         [1, 1, 1, 1]]]), array([[1, 1, 1, 1, 1, 1, 1, 1],\n",
       "        [1, 1, 1, 1, 1, 1, 1, 1],\n",
       "        [1, 1, 1, 1, 1, 1, 1, 1]]))"
      ]
     },
     "execution_count": 29,
     "metadata": {},
     "output_type": "execute_result"
    }
   ],
   "source": [
    "a=np.ones((2,3,4),dtype=np.int32)\n",
    "b=a.reshape((3,8))\n",
    "a,b"
   ]
  },
  {
   "cell_type": "code",
   "execution_count": 40,
   "metadata": {},
   "outputs": [
    {
     "data": {
      "text/plain": [
       "(array([[1, 1, 1, 1, 1, 1, 1, 1],\n",
       "        [1, 1, 1, 1, 1, 1, 1, 1],\n",
       "        [1, 1, 1, 1, 1, 1, 1, 1]]), None)"
      ]
     },
     "execution_count": 40,
     "metadata": {},
     "output_type": "execute_result"
    }
   ],
   "source": [
    "a = np.ones((2, 3, 4), dtype=np.int32)\n",
    "b=a.resize((3,8))\n",
    "a,b"
   ]
  },
  {
   "cell_type": "markdown",
   "metadata": {},
   "source": [
    "*ndarray.reshape()和ndarray.resize()的区别是：是否改变原数组ndarray的值，reshape不改变原数组的值，所以需要将reshape后的数组返回给新的对象接收，resize改变原数组的值，所以就不需要返回给新的对象接收，这就是为什么`b = a.resize((3,8)`时，b的值是None*"
   ]
  },
  {
   "cell_type": "markdown",
   "metadata": {},
   "source": [
    "### 数组元素数据类型的转换\n",
    "`new_a = a.astype(new_type)`\n",
    "astype()函数肯定会创建新的数组（对原始数据进行拷贝），即使新的数组类型和原来的类型一致"
   ]
  },
  {
   "cell_type": "code",
   "execution_count": null,
   "metadata": {},
   "outputs": [],
   "source": []
  },
  {
   "cell_type": "code",
   "execution_count": 47,
   "metadata": {},
   "outputs": [
    {
     "data": {
      "text/plain": [
       "(array([[[8, 8, 8, 8],\n",
       "         [8, 8, 8, 8],\n",
       "         [8, 8, 8, 8]],\n",
       " \n",
       "        [[8, 8, 8, 8],\n",
       "         [8, 8, 8, 8],\n",
       "         [8, 8, 8, 8]]]), dtype('int32'))"
      ]
     },
     "execution_count": 47,
     "metadata": {},
     "output_type": "execute_result"
    }
   ],
   "source": [
    "a=np.full((2,3,4),8,dtype=np.int)\n",
    "a,a.dtype# 可以用int代替具体的int32或者int64"
   ]
  },
  {
   "cell_type": "markdown",
   "metadata": {},
   "source": [
    "### ndarray数组向python的list转换\n",
    "ls=a.tolist()"
   ]
  },
  {
   "cell_type": "code",
   "execution_count": 5,
   "metadata": {},
   "outputs": [
    {
     "data": {
      "text/plain": [
       "(array([[[1, 1, 1, 1],\n",
       "         [1, 1, 1, 1],\n",
       "         [1, 1, 1, 1]],\n",
       " \n",
       "        [[1, 1, 1, 1],\n",
       "         [1, 1, 1, 1],\n",
       "         [1, 1, 1, 1]]]),\n",
       " [[[1, 1, 1, 1], [1, 1, 1, 1], [1, 1, 1, 1]],\n",
       "  [[1, 1, 1, 1], [1, 1, 1, 1], [1, 1, 1, 1]]])"
      ]
     },
     "execution_count": 5,
     "metadata": {},
     "output_type": "execute_result"
    }
   ],
   "source": [
    "a=np.ones((2,3,4),dtype=np.int)\n",
    "ls=a.tolist()\n",
    "a,ls"
   ]
  },
  {
   "cell_type": "markdown",
   "metadata": {},
   "source": [
    "## ndarray中数组的操作（索引和切片）\n",
    "- 索引：获取数组中特定位置元素的过程\n",
    "- 切片：：获取数组元素子集的过程\n",
    "### 一维数组的索引和切片：与Python的列表类似\n",
    "对于切片来说a[0:6:2]，0表示切片开始的索引，6表示切片结束的索引（但不包含该索引），2表示切片的步长。"
   ]
  },
  {
   "cell_type": "code",
   "execution_count": 12,
   "metadata": {},
   "outputs": [
    {
     "data": {
      "text/plain": [
       "(array([ 0,  2,  5,  7, 10]), 5, array([ 0,  5, 10]))"
      ]
     },
     "execution_count": 12,
     "metadata": {},
     "output_type": "execute_result"
    }
   ],
   "source": [
    "a=np.linspace(0,10,5,dtype=np.int)\n",
    "a,a[2],a[0:6:2]"
   ]
  },
  {
   "cell_type": "markdown",
   "metadata": {},
   "source": [
    "### 多维数组的索引和切片\n",
    "- 多维数组的索引\n"
   ]
  },
  {
   "cell_type": "code",
   "execution_count": 17,
   "metadata": {},
   "outputs": [
    {
     "data": {
      "text/plain": [
       "(array([[[ 0,  1,  2,  3],\n",
       "         [ 4,  5,  6,  7],\n",
       "         [ 8,  9, 10, 11]],\n",
       " \n",
       "        [[12, 13, 14, 15],\n",
       "         [16, 17, 18, 19],\n",
       "         [20, 21, 22, 23]]]), 23, 17)"
      ]
     },
     "execution_count": 17,
     "metadata": {},
     "output_type": "execute_result"
    }
   ],
   "source": [
    "a=np.arange(24).reshape((2,3,4))\n",
    "a,a[1,2,3],a[-1,-2,-3]"
   ]
  },
  {
   "cell_type": "markdown",
   "metadata": {},
   "source": [
    "- 多维数组的切片\n",
    "\n",
    "*数组几维度，切片结果为几个维度*\n",
    "\n",
    "a[:,:,:],a[::,::,::],a[:,:,0:5:2],可以看到对于三维数组，切片中有两个逗号将ndarray数组分为三份，第一个部分是对最外层维度的切片，第二个部分是对中间维度的切片，第三个部分是对最内部维度的切片，对于每一个维度来说，其切片就和python中list的切片操作是一样的，所以a[:,:,:]和a[::,::,::]的结果一致，因为切片可以省略步长不写"
   ]
  },
  {
   "cell_type": "code",
   "execution_count": 24,
   "metadata": {},
   "outputs": [
    {
     "data": {
      "text/plain": [
       "(array([[[ 0,  1,  2,  3],\n",
       "         [ 4,  5,  6,  7],\n",
       "         [ 8,  9, 10, 11]],\n",
       " \n",
       "        [[12, 13, 14, 15],\n",
       "         [16, 17, 18, 19],\n",
       "         [20, 21, 22, 23]]]), array([[[ 0,  1,  2,  3],\n",
       "         [ 4,  5,  6,  7],\n",
       "         [ 8,  9, 10, 11]],\n",
       " \n",
       "        [[12, 13, 14, 15],\n",
       "         [16, 17, 18, 19],\n",
       "         [20, 21, 22, 23]]]), array([[[ 0,  2],\n",
       "         [ 4,  6],\n",
       "         [ 8, 10]],\n",
       " \n",
       "        [[12, 14],\n",
       "         [16, 18],\n",
       "         [20, 22]]]), array([[[0]]]))"
      ]
     },
     "execution_count": 24,
     "metadata": {},
     "output_type": "execute_result"
    }
   ],
   "source": [
    "a=np.arange(24).reshape((2,3,4))\n",
    "a[:,:,:],a[::,::,::],a[:,:,0:5:2],a[0:2:2,0:3:3,0:4:4]"
   ]
  },
  {
   "cell_type": "markdown",
   "metadata": {},
   "source": [
    "## 数组的运算\n",
    "### 数组与标量运算\n",
    "- 数组与标量之间间的运算作用于数组的每一个元素"
   ]
  },
  {
   "cell_type": "code",
   "execution_count": 27,
   "metadata": {},
   "outputs": [
    {
     "data": {
      "text/plain": [
       "(array([[[ 0,  1,  2,  3],\n",
       "         [ 4,  5,  6,  7],\n",
       "         [ 8,  9, 10, 11]],\n",
       " \n",
       "        [[12, 13, 14, 15],\n",
       "         [16, 17, 18, 19],\n",
       "         [20, 21, 22, 23]]]),\n",
       " 11.5,\n",
       " array([[[0.        , 0.08695652, 0.17391304, 0.26086957],\n",
       "         [0.34782609, 0.43478261, 0.52173913, 0.60869565],\n",
       "         [0.69565217, 0.7826087 , 0.86956522, 0.95652174]],\n",
       " \n",
       "        [[1.04347826, 1.13043478, 1.2173913 , 1.30434783],\n",
       "         [1.39130435, 1.47826087, 1.56521739, 1.65217391],\n",
       "         [1.73913043, 1.82608696, 1.91304348, 2.        ]]]))"
      ]
     },
     "execution_count": 27,
     "metadata": {},
     "output_type": "execute_result"
    }
   ],
   "source": [
    "a=np.arange(0,24,1).reshape((2,3,4))\n",
    "a,a.mean(),a/a.mean()"
   ]
  },
  {
   "cell_type": "markdown",
   "metadata": {},
   "source": [
    "### ndarray的一元函数\n",
    "> 几乎所有的一元函数都不会修改数组本来的值，而是生成一个新的数组来接收，如果要修改，则将修改的数组重新赋值给原数组\n",
    "\n",
    "|函数|说明|\n",
    "|-----|-----|\n",
    "|np.abs(x) np.fabs(x)|计算数组各元素的绝对值|\n",
    "|np.sqrt(x)|计算数组各元素的开方根|\n",
    "|np.square(x)|计算数组各元素的平方|\n",
    "|np.log(x) np.log10(x) np.log2(x)|计算数组各元素的自然对数，10底对数和2底对数|\n",
    "|np.ceil(x) np.floor(x)|计算数组各元素的ceiling(不超过元素的整数)值或floor(不小于元素的整数)值|\n",
    "|np.rint(x)|计算数组各元素的四舍五入值|\n",
    "|np.modf(x)|将数组各元素的小数和整数部分以两个独立数组形式返回 |\n",
    "|np.cos(x) np.cosh(x) np.sin(x) np.sinh(x) np.tan(x) np.tanh(x)|计算数组各元素的普通型和双曲型三角函数|\n",
    "|np.exp(x)|计算各元素的e指数值|\n",
    "|np.sign(x)|计算数组各元素的符号值，1(+), 0, ‐1(‐)|"
   ]
  },
  {
   "cell_type": "markdown",
   "metadata": {},
   "source": [
    "### ndarray二元函数\n",
    "|函数|说明|\n",
    "|-|-|\n",
    "|+ ‐* / **|两个数组各元素进行对应运算 |\n",
    "|np.maximum(x,y) np.fmax() np.minimum(x,y) np.fmin()|元素级的最大值/最小值计算 |\n",
    "|np.mod(x,y)|元素级的模运算|\n",
    "|np.copysign(x,y)|将数组y中各元素值的符号赋值给数组x对应元素 |\n",
    "|> < >= <= == !=|算术比较，产生布尔型数组|"
   ]
  },
  {
   "cell_type": "markdown",
   "metadata": {},
   "source": [
    "# 第一周第二单元：numpy数据存取与函数\n",
    "## 数据的csv文件存取\n",
    "CSV (Comma‐Separated Value,逗号分隔值) \n",
    "\n",
    "CSV是一种常见的文件格式，用来存储批量数据\n",
    "### 数据的csv文件的写入\n",
    "`np.savetxt(frame, array, fmt='%.18e', delimiter=None)` \n",
    "- frame : 文件、字符串或产生器，即为保存文件的名字\n",
    "- array : 存入文件的数组\n",
    "- fmt: 写入文件的格式，例如：%d %.2f %.18e\n",
    "- delimiter : 分割字符串，默认是任何空格,对于csv，我们默认使用\",\""
   ]
  },
  {
   "cell_type": "code",
   "execution_count": 35,
   "metadata": {},
   "outputs": [],
   "source": [
    "a=np.arange(100).reshape(5,20)\n",
    "np.savetxt(\"a.csv\",a,fmt=\"%d\",delimiter=\",\")"
   ]
  },
  {
   "cell_type": "markdown",
   "metadata": {},
   "source": [
    "### 数据的csv文件的读取\n",
    "`np.loadtxt(frame, dtype=np.float, delimiter=None,unpack=False)` \n",
    "- frame : 文件、字符串或产生器，即为读取文件的名字\n",
    "- dtype : 读取数据的类型\n",
    "- delimiter : 分割字符串，默认是任何空格，对于csv，我们默认使用\",\"\n",
    "- unpack<sup>?</sup> : 如果True，读入属性将分别写入不同变量"
   ]
  },
  {
   "cell_type": "code",
   "execution_count": 33,
   "metadata": {},
   "outputs": [
    {
     "data": {
      "text/plain": [
       "(array([[ 0.,  1.,  2.,  3.,  4.,  5.,  6.,  7.,  8.,  9., 10., 11., 12.,\n",
       "         13., 14., 15., 16., 17., 18., 19.],\n",
       "        [20., 21., 22., 23., 24., 25., 26., 27., 28., 29., 30., 31., 32.,\n",
       "         33., 34., 35., 36., 37., 38., 39.],\n",
       "        [40., 41., 42., 43., 44., 45., 46., 47., 48., 49., 50., 51., 52.,\n",
       "         53., 54., 55., 56., 57., 58., 59.],\n",
       "        [60., 61., 62., 63., 64., 65., 66., 67., 68., 69., 70., 71., 72.,\n",
       "         73., 74., 75., 76., 77., 78., 79.],\n",
       "        [80., 81., 82., 83., 84., 85., 86., 87., 88., 89., 90., 91., 92.,\n",
       "         93., 94., 95., 96., 97., 98., 99.]]),\n",
       " array([[ 0,  1,  2,  3,  4,  5,  6,  7,  8,  9, 10, 11, 12, 13, 14, 15,\n",
       "         16, 17, 18, 19],\n",
       "        [20, 21, 22, 23, 24, 25, 26, 27, 28, 29, 30, 31, 32, 33, 34, 35,\n",
       "         36, 37, 38, 39],\n",
       "        [40, 41, 42, 43, 44, 45, 46, 47, 48, 49, 50, 51, 52, 53, 54, 55,\n",
       "         56, 57, 58, 59],\n",
       "        [60, 61, 62, 63, 64, 65, 66, 67, 68, 69, 70, 71, 72, 73, 74, 75,\n",
       "         76, 77, 78, 79],\n",
       "        [80, 81, 82, 83, 84, 85, 86, 87, 88, 89, 90, 91, 92, 93, 94, 95,\n",
       "         96, 97, 98, 99]]),\n",
       " array([[ 0, 20, 40, 60, 80],\n",
       "        [ 1, 21, 41, 61, 81],\n",
       "        [ 2, 22, 42, 62, 82],\n",
       "        [ 3, 23, 43, 63, 83],\n",
       "        [ 4, 24, 44, 64, 84],\n",
       "        [ 5, 25, 45, 65, 85],\n",
       "        [ 6, 26, 46, 66, 86],\n",
       "        [ 7, 27, 47, 67, 87],\n",
       "        [ 8, 28, 48, 68, 88],\n",
       "        [ 9, 29, 49, 69, 89],\n",
       "        [10, 30, 50, 70, 90],\n",
       "        [11, 31, 51, 71, 91],\n",
       "        [12, 32, 52, 72, 92],\n",
       "        [13, 33, 53, 73, 93],\n",
       "        [14, 34, 54, 74, 94],\n",
       "        [15, 35, 55, 75, 95],\n",
       "        [16, 36, 56, 76, 96],\n",
       "        [17, 37, 57, 77, 97],\n",
       "        [18, 38, 58, 78, 98],\n",
       "        [19, 39, 59, 79, 99]]))"
      ]
     },
     "execution_count": 33,
     "metadata": {},
     "output_type": "execute_result"
    }
   ],
   "source": [
    "b=np.loadtxt(\"a.csv\",delimiter=\",\")\n",
    "c=np.loadtxt(\"a.csv\",dtype=np.int,delimiter=\",\")\n",
    "d=np.loadtxt(\"a.csv\",dtype=np.int,delimiter=\",\",unpack=True)\n",
    "b,c,d"
   ]
  },
  {
   "cell_type": "markdown",
   "metadata": {},
   "source": [
    "### csv文件的局限性\n",
    "csv文件只能有效存储一维和二维数组，np.savetxt() np.loadtxt()只能有效存取一维和二维数组"
   ]
  },
  {
   "cell_type": "markdown",
   "metadata": {},
   "source": [
    "## 任意维度数据存取\n",
    "下面介绍任意维度的存取，但是任意维度写入的数组从文件中读取出来时无法知道写入的时候该数组的shape，因为写入时只是写入了数据，并没有将数组的元数据保存起来，所以可以用到numpy中提供的numpy.save()和numpy.load(),这两个函数保存了数组的元数据\n",
    "### 任意维度数据写入\n",
    "> 注意这里使用的是a.tofile(),别的地方都是np.savetxt(),np.loadtxt(),np.fromfile()\n",
    "\n",
    "`a.tofile(frame, sep='', format='%s')\n",
    "`\n",
    "- frame : 文件、字符串的名字\n",
    "- sep: 数据分割字符串，如果是空串(空串是引号中间什么都没有，空格都没有，如果是空格，则是以空格为分界)，写入文件为二进制\n",
    "- format : 写入数据的格式"
   ]
  },
  {
   "cell_type": "code",
   "execution_count": null,
   "metadata": {},
   "outputs": [],
   "source": []
  },
  {
   "cell_type": "code",
   "execution_count": 38,
   "metadata": {},
   "outputs": [],
   "source": [
    "a=np.arange(100).reshape((5,10,2))\n",
    "a.tofile(\"b.dat\",sep=\",\",format=\"%d\")\n",
    "a.tofile(\"c.dat\",format=\"%d\")# 写入二进制格式"
   ]
  },
  {
   "cell_type": "markdown",
   "metadata": {},
   "source": [
    "### 任意维度数据的读取\n",
    "`np.fromfile(frame, dtype=float, count=‐1, sep='')`\n",
    "- frame : 文件、字符串\n",
    "- dtype: 读取的数据类型\n",
    "- count : 读入元素个数，‐1表示读入整个文件\n",
    "- sep: 数据分割字符串，如果是空串(空串是引号中间什么都没有，空格都没有，如果是空格，则是以空格为分界)写入文件为二进制"
   ]
  },
  {
   "cell_type": "code",
   "execution_count": 8,
   "metadata": {},
   "outputs": [
    {
     "data": {
      "text/plain": [
       "(array([[[ 0.,  1.],\n",
       "         [ 2.,  3.],\n",
       "         [ 4.,  5.],\n",
       "         [ 6.,  7.],\n",
       "         [ 8.,  9.],\n",
       "         [10., 11.],\n",
       "         [12., 13.],\n",
       "         [14., 15.],\n",
       "         [16., 17.],\n",
       "         [18., 19.]],\n",
       " \n",
       "        [[20., 21.],\n",
       "         [22., 23.],\n",
       "         [24., 25.],\n",
       "         [26., 27.],\n",
       "         [28., 29.],\n",
       "         [30., 31.],\n",
       "         [32., 33.],\n",
       "         [34., 35.],\n",
       "         [36., 37.],\n",
       "         [38., 39.]],\n",
       " \n",
       "        [[40., 41.],\n",
       "         [42., 43.],\n",
       "         [44., 45.],\n",
       "         [46., 47.],\n",
       "         [48., 49.],\n",
       "         [50., 51.],\n",
       "         [52., 53.],\n",
       "         [54., 55.],\n",
       "         [56., 57.],\n",
       "         [58., 59.]],\n",
       " \n",
       "        [[60., 61.],\n",
       "         [62., 63.],\n",
       "         [64., 65.],\n",
       "         [66., 67.],\n",
       "         [68., 69.],\n",
       "         [70., 71.],\n",
       "         [72., 73.],\n",
       "         [74., 75.],\n",
       "         [76., 77.],\n",
       "         [78., 79.]],\n",
       " \n",
       "        [[80., 81.],\n",
       "         [82., 83.],\n",
       "         [84., 85.],\n",
       "         [86., 87.],\n",
       "         [88., 89.],\n",
       "         [90., 91.],\n",
       "         [92., 93.],\n",
       "         [94., 95.],\n",
       "         [96., 97.],\n",
       "         [98., 99.]]]),\n",
       " array([ 0,  1,  2,  3,  4,  5,  6,  7,  8,  9, 10, 11, 12, 13, 14, 15, 16,\n",
       "        17, 18, 19, 20, 21, 22, 23, 24, 25, 26, 27, 28, 29, 30, 31, 32, 33,\n",
       "        34, 35, 36, 37, 38, 39, 40, 41, 42, 43, 44, 45, 46, 47, 48, 49, 50,\n",
       "        51, 52, 53, 54, 55, 56, 57, 58, 59, 60, 61, 62, 63, 64, 65, 66, 67,\n",
       "        68, 69, 70, 71, 72, 73, 74, 75, 76, 77, 78, 79, 80, 81, 82, 83, 84,\n",
       "        85, 86, 87, 88, 89, 90, 91, 92, 93, 94, 95, 96, 97, 98, 99]))"
      ]
     },
     "execution_count": 8,
     "metadata": {},
     "output_type": "execute_result"
    }
   ],
   "source": [
    "b=np.fromfile(\"b.dat\",dtype=np.float,count=-1,sep=\",\").reshape((5,10,2\n",
    "            ))\n",
    "c=np.fromfile(\"c.dat\",dtype=np.int,count=-1,sep=\"\")\n",
    "b,c"
   ]
  },
  {
   "cell_type": "markdown",
   "metadata": {},
   "source": [
    "## Numpy的便捷文件存取\n",
    "可以很好的解决多维数组问题，因为保存了数组的元数据。\n",
    "### 便捷文件保存\n",
    "`np.save(fname, array) 或np.savez(fname, array)`\n",
    "> 这里的保存格式为.npy\n",
    "\n",
    "- fname: 文件名，以.npy为扩展名，压缩扩展名为.npz\n",
    "- array : 数组变量\n",
    "### 便捷文件读取\n",
    "`np.load(fname)`\n",
    "- fname: 文件名，以.npy为扩展名，压缩扩展名为.npz\n"
   ]
  },
  {
   "cell_type": "code",
   "execution_count": 11,
   "metadata": {},
   "outputs": [],
   "source": [
    "# 写入文件\n",
    "a=np.arange(24).reshape(2,3,4)\n",
    "np.save(\"d.npy\",a)# .npy可加可不加"
   ]
  },
  {
   "cell_type": "code",
   "execution_count": 14,
   "metadata": {},
   "outputs": [
    {
     "data": {
      "text/plain": [
       "array([[[ 0,  1,  2,  3],\n",
       "        [ 4,  5,  6,  7],\n",
       "        [ 8,  9, 10, 11]],\n",
       "\n",
       "       [[12, 13, 14, 15],\n",
       "        [16, 17, 18, 19],\n",
       "        [20, 21, 22, 23]]])"
      ]
     },
     "execution_count": 14,
     "metadata": {},
     "output_type": "execute_result"
    }
   ],
   "source": [
    "# 读取写入的文件\n",
    "b=np.load(\"d.npy\")\n",
    "b"
   ]
  },
  {
   "cell_type": "markdown",
   "metadata": {},
   "source": [
    "## Numpy的随机数函数子库\n",
    "python中也有random库，是为标量所服务的，而numpy中的random子库，是为多维数组服务的*注意这里是numpy中的字库random库中的函数，所以使用时为`np.random.*`*\n",
    "\n",
    "`np.random.*`\n",
    "### Numpy中常用随机函数库\n",
    "|函数|说明|\n",
    "|-|-|\n",
    "|rand(d0,d1,..,dn)|根据d0‐dn创建随机数数组(d0和dn表达的意思是shape，但是不用元组表示)浮点数，[0,1)包含零不包含一，均匀分布|\n",
    "|randn(d0,d1,..,dn)|根据d0‐dn创建随机数数组(d0和dn表达的意思是shape，但是不用元组表示)，标准正态分布|\n",
    "|randint(low[,high,shape])|根据shape创建随机整数或整数数组，范围是[low, high),包含low不包含high,如果只是传入一个参数，则是生成一个不小于该参数的整数|\n",
    "|seed(s)|随机数种子，s是给定的种子值|"
   ]
  },
  {
   "cell_type": "code",
   "execution_count": 23,
   "metadata": {},
   "outputs": [],
   "source": [
    "import numpy as np\n",
    "a=np.random.rand(2,3,4)\n",
    "b=np.random.randn(2,3,4)\n",
    "c=np.random.randint(5,7,(2,3,4))\n",
    "np.random.seed(10)\n"
   ]
  },
  {
   "cell_type": "markdown",
   "metadata": {},
   "source": [
    "### Numpy中高级随机函数库\n",
    "|函数|说明|\n",
    "|-|-|\n",
    "|shuffle(a)|根据数组a的第1轴进行随排列，改变数组x |\n",
    "|permutation(a)|根据数组a的第1轴产生一个新的乱序数组，不改变数组x，生成新的数组 |\n",
    "|choice(a[,size,replace,p])|从一维数组a中以概率p抽取元素，形成size形状新数组 replace表示是否可以重用元素，默认为False|"
   ]
  },
  {
   "cell_type": "markdown",
   "metadata": {},
   "source": [
    "### Numpy中高级随机函数库（生成特定分布）\n",
    "|函数|说明|\n",
    "|-|-|\n",
    "|uniform(low,high,size)|产生具有均匀分布的数组,low起始值,high结束值,size形状 |\n",
    "|normal(loc,scale,size)|产生具有正态分布的数组,loc均值,scale标准差,size形状 |\n",
    "|poisson(lam,size)|产生具有泊松分布的数组,lam随机事件发生率,size形状|"
   ]
  },
  {
   "cell_type": "markdown",
   "metadata": {},
   "source": [
    "## Numpy中的统计函数\n",
    "Numpy直接提供的统计函数`np.*`\n",
    "### 统计函数1\n",
    "|函数|说明|\n",
    "|-|-|\n",
    "|sum(a, axis=None)|根据给定轴axis计算数组a相关元素之和，axis整数或元组|\n",
    "|mean(a, axis=None)|根据给定轴axis计算数组a相关元素的期望，axis整数或元组|\n",
    "|average(a,axis=None,weights=None)|根据给定轴axis计算数组a相关元素的加权平均值|\n",
    "|std(a, axis=None)|根据给定轴axis计算数组a相关元素的标准差|\n",
    "|var(a, axis=None)|根据给定轴axis计算数组a相关元素的方差|\n",
    "> 如果axis=None，则是对数组中所有的数据进行运算，如果给定轴的话，则是对轴上的数据进行运算\n",
    "\n"
   ]
  },
  {
   "cell_type": "code",
   "execution_count": 38,
   "metadata": {},
   "outputs": [
    {
     "name": "stdout",
     "output_type": "stream",
     "text": [
      "y轴是0，x轴为1\n"
     ]
    },
    {
     "data": {
      "text/plain": [
       "(array([[ 0,  1,  2,  3],\n",
       "        [ 4,  5,  6,  7],\n",
       "        [ 8,  9, 10, 11]]),\n",
       " 5.5,\n",
       " array([4., 5., 6., 7.]),\n",
       " array([1.5, 5.5, 9.5]))"
      ]
     },
     "execution_count": 38,
     "metadata": {},
     "output_type": "execute_result"
    }
   ],
   "source": [
    "import numpy as np\n",
    "a=np.arange(12).reshape(3,4)\n",
    "print(\"y轴是0，x轴为1\")\n",
    "a,np.mean(a),np.mean(a,axis=0),np.mean(a,axis=1)"
   ]
  },
  {
   "cell_type": "markdown",
   "metadata": {},
   "source": [
    "### 统计函数2\n",
    "|函数|说明|\n",
    "|-|-|\n",
    "|min(a)  max(a)|计算数组a中元素的最小值、最大值|\n",
    "|argmin(a)  argmax(a)|计算数组a中元素最小值、最大值的对应一维数组下标|\n",
    "|unravel_index(index, shape)|根据shape将一维下标index转换成多维下标|\n",
    "|ptp(a)|计算数组a中元素最大值与最小值的差|\n",
    "|median(a)|计算数组a中元素的中位数（中值）|"
   ]
  },
  {
   "cell_type": "code",
   "execution_count": 44,
   "metadata": {},
   "outputs": [
    {
     "name": "stdout",
     "output_type": "stream",
     "text": [
      "0\n",
      "(0, 0, 0)\n"
     ]
    },
    {
     "data": {
      "text/plain": [
       "array([[[24, 23, 22, 21],\n",
       "        [20, 19, 18, 17],\n",
       "        [16, 15, 14, 13]],\n",
       "\n",
       "       [[12, 11, 10,  9],\n",
       "        [ 8,  7,  6,  5],\n",
       "        [ 4,  3,  2,  1]]])"
      ]
     },
     "execution_count": 44,
     "metadata": {},
     "output_type": "execute_result"
    }
   ],
   "source": [
    "import numpy as np\n",
    "a=np.arange(24,0,-1).reshape(2,3,4)\n",
    "print(np.argmax(a))# 得到一维数组中最大值的下标\n",
    "print(np.unravel_index(np.argmax(a),a.shape))# 重塑为多维数组下标\n",
    "a"
   ]
  },
  {
   "cell_type": "markdown",
   "metadata": {},
   "source": [
    "## Numpy中的梯度函数\n",
    "梯度：连续值之间的变化率，即斜率，适合处理声音图像等连续信号的边缘\n",
    "\n",
    "梯度的计算：XY坐标轴连续三个X坐标对应的Y轴值：[a, b, c]，其中，b的梯度是：(c‐a)/2\n",
    "> 对于多维函数来说，每一个维度上对应一个梯度，所以二位函数有两个梯度，三位函数有三个梯度\n",
    "\n",
    "|函数|说明|\n",
    "|-|-|\n",
    "|np.gradient(f)|计算数组f中元素的梯度，当f为多维时，返回每个维度梯度|\n"
   ]
  },
  {
   "cell_type": "code",
   "execution_count": 49,
   "metadata": {},
   "outputs": [
    {
     "data": {
      "text/plain": [
       "(array([[ 4, 22, 19, 21,  9,  3],\n",
       "        [ 3, 16, 11,  9, 22, 18],\n",
       "        [19,  9, 17, 10,  4,  0],\n",
       "        [21,  0, 10,  8, 17, 13]]),\n",
       " [array([[ -1. ,  -6. ,  -8. , -12. ,  13. ,  15. ],\n",
       "         [  7.5,  -6.5,  -1. ,  -5.5,  -2.5,  -1.5],\n",
       "         [  9. ,  -8. ,  -0.5,  -0.5,  -2.5,  -2.5],\n",
       "         [  2. ,  -9. ,  -7. ,  -2. ,  13. ,  13. ]]),\n",
       "  array([[ 18. ,   7.5,  -0.5,  -5. ,  -9. ,  -6. ],\n",
       "         [ 13. ,   4. ,  -3.5,   5.5,   4.5,  -4. ],\n",
       "         [-10. ,  -1. ,   0.5,  -6.5,  -5. ,  -4. ],\n",
       "         [-21. ,  -5.5,   4. ,   3.5,   2.5,  -4. ]])])"
      ]
     },
     "execution_count": 49,
     "metadata": {},
     "output_type": "execute_result"
    }
   ],
   "source": [
    "import numpy as np\n",
    "a=np.random.randint(24,size=(4,6))\n",
    "a,np.gradient(a)"
   ]
  },
  {
   "cell_type": "markdown",
   "metadata": {},
   "source": [
    "# 第一周第三单元：图像的手绘效果\n",
    "## 图像的数组表示\n",
    "图像一般采用RGB三个颜色通道保存颜色，每个通道取值0到255，所以一个像素点有256<sup>3</sup>中颜色，通过三个通道的相互叠加得到各种人类可以识别的颜色.图像可以表示为一个三维数组，首先长宽用两个维度来表示，但是RGB也得用一个唯独表示，空间上可以想象成有三张表个前后排列在一起。\n",
    "### PIL库（Python Image Library）\n",
    "PIL库是一个具有强大图像处理能力的第三方库 \n",
    "`from PIL import Image`\n",
    "Image是PIL库中代表一个图像的类（对象）"
   ]
  },
  {
   "cell_type": "code",
   "execution_count": 56,
   "metadata": {},
   "outputs": [
    {
     "data": {
      "text/plain": [
       "((425, 300, 3), dtype('uint8'))"
      ]
     },
     "execution_count": 56,
     "metadata": {},
     "output_type": "execute_result"
    }
   ],
   "source": [
    "import numpy as np\n",
    "from PIL import Image\n",
    "image=np.array(Image.open(\"C:/Users/PeterLei/Desktop/1.jpg\"))\n",
    "image.shape,image.dtype"
   ]
  },
  {
   "cell_type": "markdown",
   "metadata": {},
   "source": [
    "## 图像的变换\n",
    "图像可以读取为数组，数组可以变换，那么我们就可以对图片进行变换\n"
   ]
  },
  {
   "cell_type": "code",
   "execution_count": 62,
   "metadata": {},
   "outputs": [],
   "source": [
    "import numpy as np\n",
    "from PIL import Image\n",
    "a=np.array(Image.open(\"C:/Users/PeterLei/Desktop/1.jpg\"))\n",
    "b=255-a\n",
    "image=Image.fromarray(b)\n",
    "image.save(\"C:/Users/PeterLei/Desktop/2.jpg\")"
   ]
  },
  {
   "cell_type": "code",
   "execution_count": 64,
   "metadata": {},
   "outputs": [
    {
     "data": {
      "text/plain": [
       "(425, 300)"
      ]
     },
     "execution_count": 64,
     "metadata": {},
     "output_type": "execute_result"
    }
   ],
   "source": [
    "import numpy as np\n",
    "from PIL import Image\n",
    "a=np.array(Image.open(\"C:/Users/PeterLei/Desktop/1.jpg\").convert(\"L\"))\n",
    "b=255-a\n",
    "image=Image.fromarray(b)\n",
    "print(b.shape)\n",
    "image.save(\"C:/Users/PeterLei/Desktop/2.jpg\")"
   ]
  },
  {
   "cell_type": "code",
   "execution_count": 65,
   "metadata": {},
   "outputs": [],
   "source": [
    "from PIL import Image\n",
    "import numpy as np\n",
    " \n",
    "a = np.asarray(Image.open('C:/Users/PeterLei/Desktop/1.jpg').convert('L')).astype('float')\n",
    " \n",
    "depth = 10.                      # (0-100)\n",
    "grad = np.gradient(a)             #取图像灰度的梯度值\n",
    "grad_x, grad_y = grad               #分别取横纵图像梯度值\n",
    "grad_x = grad_x*depth/100.\n",
    "grad_y = grad_y*depth/100.\n",
    "A = np.sqrt(grad_x**2 + grad_y**2 + 1.)\n",
    "uni_x = grad_x/A\n",
    "uni_y = grad_y/A\n",
    "uni_z = 1./A\n",
    " \n",
    "vec_el = np.pi/2.2                   # 光源的俯视角度，弧度值\n",
    "vec_az = np.pi/4.                    # 光源的方位角度，弧度值\n",
    "dx = np.cos(vec_el)*np.cos(vec_az)   #光源对x 轴的影响\n",
    "dy = np.cos(vec_el)*np.sin(vec_az)   #光源对y 轴的影响\n",
    "dz = np.sin(vec_el)              #光源对z 轴的影响\n",
    " \n",
    "b = 255*(dx*uni_x + dy*uni_y + dz*uni_z)     #光源归一化\n",
    "b = b.clip(0,255)\n",
    " \n",
    "im = Image.fromarray(b.astype('uint8'))  #重构图像\n",
    "im.save('C:/Users/PeterLei/Desktop/2.jpg')"
   ]
  },
  {
   "cell_type": "code",
   "execution_count": null,
   "metadata": {},
   "outputs": [],
   "source": []
  },
  {
   "cell_type": "code",
   "execution_count": null,
   "metadata": {},
   "outputs": [],
   "source": []
  },
  {
   "cell_type": "code",
   "execution_count": null,
   "metadata": {},
   "outputs": [],
   "source": []
  },
  {
   "cell_type": "code",
   "execution_count": null,
   "metadata": {},
   "outputs": [],
   "source": [
    "\n",
    "\n",
    "\n"
   ]
  }
 ],
 "metadata": {
  "kernelspec": {
   "display_name": "Python 3",
   "language": "python",
   "name": "python3"
  },
  "language_info": {
   "codemirror_mode": {
    "name": "ipython",
    "version": 3
   },
   "file_extension": ".py",
   "mimetype": "text/x-python",
   "name": "python",
   "nbconvert_exporter": "python",
   "pygments_lexer": "ipython3",
   "version": "3.7.3"
  },
  "toc": {
   "base_numbering": 1,
   "nav_menu": {},
   "number_sections": true,
   "sideBar": true,
   "skip_h1_title": false,
   "title_cell": "Table of Contents",
   "title_sidebar": "Contents",
   "toc_cell": false,
   "toc_position": {
    "height": "calc(100% - 180px)",
    "left": "10px",
    "top": "150px",
    "width": "307.2px"
   },
   "toc_section_display": true,
   "toc_window_display": true
  },
  "varInspector": {
   "cols": {
    "lenName": 16,
    "lenType": 16,
    "lenVar": 40
   },
   "kernels_config": {
    "python": {
     "delete_cmd_postfix": "",
     "delete_cmd_prefix": "del ",
     "library": "var_list.py",
     "varRefreshCmd": "print(var_dic_list())"
    },
    "r": {
     "delete_cmd_postfix": ") ",
     "delete_cmd_prefix": "rm(",
     "library": "var_list.r",
     "varRefreshCmd": "cat(var_dic_list()) "
    }
   },
   "position": {
    "height": "190.4px",
    "left": "245.4px",
    "right": "20px",
    "top": "113px",
    "width": "488.8px"
   },
   "types_to_exclude": [
    "module",
    "function",
    "builtin_function_or_method",
    "instance",
    "_Feature"
   ],
   "window_display": false
  }
 },
 "nbformat": 4,
 "nbformat_minor": 2
}
